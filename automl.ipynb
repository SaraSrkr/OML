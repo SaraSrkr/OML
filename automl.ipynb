{
  "cells": [
    {
      "cell_type": "markdown",
      "source": [
        "# Automated ML\n",
        "\n",
        "TODO: Import Dependencies. In the cell below, import all the dependencies that you will need to complete the project."
      ],
      "metadata": {}
    },
    {
      "cell_type": "code",
      "source": [
        "import logging\r\n",
        "import os\r\n",
        "import csv\r\n",
        "\r\n",
        "from matplotlib import pyplot as plt\r\n",
        "import numpy as np\r\n",
        "import pandas as pd\r\n",
        "from sklearn import datasets\r\n",
        "import pkg_resources\r\n",
        "\r\n",
        "import azureml.core\r\n",
        "from azureml.core.experiment import Experiment\r\n",
        "from azureml.core.workspace import Workspace\r\n",
        "from azureml.train.automl import AutoMLConfig\r\n",
        "from azureml.core.dataset import Dataset\r\n",
        "\r\n",
        "from azureml.pipeline.steps import AutoMLStep\r\n",
        "\r\n",
        "\r\n",
        "# Check core SDK version number\r\n",
        "print(\"SDK version:\", azureml.core.VERSION)"
      ],
      "outputs": [
        {
          "output_type": "stream",
          "name": "stdout",
          "text": [
            "SDK version: 1.20.0\n"
          ]
        }
      ],
      "execution_count": 1,
      "metadata": {
        "gather": {
          "logged": 1613102406880
        },
        "jupyter": {
          "outputs_hidden": false,
          "source_hidden": false
        },
        "nteract": {
          "transient": {
            "deleting": false
          }
        }
      }
    },
    {
      "cell_type": "markdown",
      "source": [
        "## Dataset\n",
        "\n",
        "### Overview\n",
        "TODO: In this markdown cell, give an overview of the dataset you are using. Also mention the task you will be performing.\n",
        "\n",
        "\n",
        "TODO: Get data. In the cell below, write code to access the data you will be using in this project. Remember that the dataset needs to be external."
      ],
      "metadata": {}
    },
    {
      "cell_type": "code",
      "source": [
        "ws = Workspace.from_config()\n",
        "print(ws.name, ws.resource_group, ws.location, ws.subscription_id, sep = '\\n')\n",
        "# choose a name for experiment\n",
        "experiment_name = 'diabetes'\n",
        "\n",
        "project_folder = './diabetes-project'\n",
        "\n",
        "experiment = Experiment(ws, experiment_name)\n",
        "experiment"
      ],
      "outputs": [
        {
          "output_type": "stream",
          "name": "stdout",
          "text": [
            "Performing interactive authentication. Please follow the instructions on the terminal.\n",
            "To sign in, use a web browser to open the page https://microsoft.com/devicelogin and enter the code RER7ES9CX to authenticate.\n",
            "You have logged in. Now let us find all the subscriptions to which you have access...\n",
            "Interactive authentication successfully completed.\n",
            "quick-starts-ws-138656\n",
            "aml-quickstarts-138656\n",
            "southcentralus\n",
            "d4ad7261-832d-46b2-b093-22156001df5b\n"
          ]
        },
        {
          "output_type": "execute_result",
          "execution_count": 2,
          "data": {
            "text/plain": "Experiment(Name: diabetes,\nWorkspace: quick-starts-ws-138656)",
            "text/html": "<table style=\"width:100%\"><tr><th>Name</th><th>Workspace</th><th>Report Page</th><th>Docs Page</th></tr><tr><td>diabetes</td><td>quick-starts-ws-138656</td><td><a href=\"https://ml.azure.com/experiments/diabetes?wsid=/subscriptions/d4ad7261-832d-46b2-b093-22156001df5b/resourcegroups/aml-quickstarts-138656/workspaces/quick-starts-ws-138656\" target=\"_blank\" rel=\"noopener\">Link to Azure Machine Learning studio</a></td><td><a href=\"https://docs.microsoft.com/en-us/python/api/azureml-core/azureml.core.experiment.Experiment?view=azure-ml-py\" target=\"_blank\" rel=\"noopener\">Link to Documentation</a></td></tr></table>"
          },
          "metadata": {}
        }
      ],
      "execution_count": 2,
      "metadata": {
        "gather": {
          "logged": 1613102449621
        },
        "jupyter": {
          "outputs_hidden": false,
          "source_hidden": false
        },
        "nteract": {
          "transient": {
            "deleting": false
          }
        }
      }
    },
    {
      "cell_type": "code",
      "source": [
        "from azureml.core.compute import AmlCompute\r\n",
        "from azureml.core.compute import ComputeTarget\r\n",
        "from azureml.core.compute_target import ComputeTargetException\r\n",
        "\r\n",
        "# NOTE: update the cluster name to match the existing cluster\r\n",
        "# Choose a name for your CPU cluster\r\n",
        "amlcompute_cluster_name = \"capcpu\"\r\n",
        "\r\n",
        "# Verify that cluster does not exist already\r\n",
        "try:\r\n",
        "    compute_target = ComputeTarget(workspace=ws, name=amlcompute_cluster_name)\r\n",
        "    print('Found existing cluster, use it.')\r\n",
        "except ComputeTargetException:\r\n",
        "\r\n",
        "    compute_config = AmlCompute.provisioning_configuration(vm_size='STANDARD_D2_V2',# for GPU, use \"STANDARD_NC6\"\r\n",
        "                                                           #vm_priority = 'lowpriority', # optional\r\n",
        "                                                             max_nodes=4)\r\n",
        "    compute_target = ComputeTarget.create(ws, amlcompute_cluster_name, compute_config)\r\n",
        "\r\n",
        "compute_target.wait_for_completion(show_output=True, min_node_count = 1, timeout_in_minutes = 10)\r\n",
        "# For a more detailed view of current AmlCompute status, use get_status()."
      ],
      "outputs": [
        {
          "output_type": "stream",
          "name": "stdout",
          "text": [
            "Creating\n",
            "Succeeded..................................................................................................................\n",
            "AmlCompute wait for completion finished\n",
            "\n",
            "Wait timeout has been reached\n",
            "Current provisioning state of AmlCompute is \"Succeeded\" and current node count is \"0\"\n"
          ]
        }
      ],
      "execution_count": 3,
      "metadata": {
        "collapsed": true,
        "jupyter": {
          "source_hidden": false,
          "outputs_hidden": false
        },
        "nteract": {
          "transient": {
            "deleting": false
          }
        },
        "gather": {
          "logged": 1613103061218
        }
      }
    },
    {
      "cell_type": "code",
      "source": [
        "found = False\r\n",
        "key = \"diabetes\"\r\n",
        "description_text = \"predict diabetes\"\r\n",
        "\r\n",
        "if key in ws.datasets.keys(): \r\n",
        "        found = True\r\n",
        "        dataset = ws.datasets[key] \r\n",
        "\r\n",
        "if not found:\r\n",
        "        # Create Dataset and register it into Workspace\r\n",
        "        example_data = 'https://raw.githubusercontent.com/SaraSrkr/Capstone-Prpject/main/diabetes.csv'\r\n",
        "        dataset = Dataset.Tabular.from_delimited_files(example_data)        \r\n",
        "        #Register Dataset in Workspace\r\n",
        "        dataset = dataset.register(workspace=ws,\r\n",
        "                                   name=key,\r\n",
        "                                   description=description_text)\r\n",
        "\r\n",
        "df = dataset.to_pandas_dataframe()\r\n",
        "df.describe()"
      ],
      "outputs": [
        {
          "output_type": "execute_result",
          "execution_count": 4,
          "data": {
            "text/plain": "       Pregnancies     Glucose  BloodPressure  SkinThickness     Insulin  \\\ncount   768.000000  768.000000     768.000000     768.000000  768.000000   \nmean      3.845052  120.894531      69.105469      20.536458   79.799479   \nstd       3.369578   31.972618      19.355807      15.952218  115.244002   \nmin       0.000000    0.000000       0.000000       0.000000    0.000000   \n25%       1.000000   99.000000      62.000000       0.000000    0.000000   \n50%       3.000000  117.000000      72.000000      23.000000   30.500000   \n75%       6.000000  140.250000      80.000000      32.000000  127.250000   \nmax      17.000000  199.000000     122.000000      99.000000  846.000000   \n\n              BMI  DiabetesPedigreeFunction         Age     Outcome  \ncount  768.000000                768.000000  768.000000  768.000000  \nmean    31.992578                  0.471876   33.240885    0.348958  \nstd      7.884160                  0.331329   11.760232    0.476951  \nmin      0.000000                  0.078000   21.000000    0.000000  \n25%     27.300000                  0.243750   24.000000    0.000000  \n50%     32.000000                  0.372500   29.000000    0.000000  \n75%     36.600000                  0.626250   41.000000    1.000000  \nmax     67.100000                  2.420000   81.000000    1.000000  ",
            "text/html": "<div>\n<style scoped>\n    .dataframe tbody tr th:only-of-type {\n        vertical-align: middle;\n    }\n\n    .dataframe tbody tr th {\n        vertical-align: top;\n    }\n\n    .dataframe thead th {\n        text-align: right;\n    }\n</style>\n<table border=\"1\" class=\"dataframe\">\n  <thead>\n    <tr style=\"text-align: right;\">\n      <th></th>\n      <th>Pregnancies</th>\n      <th>Glucose</th>\n      <th>BloodPressure</th>\n      <th>SkinThickness</th>\n      <th>Insulin</th>\n      <th>BMI</th>\n      <th>DiabetesPedigreeFunction</th>\n      <th>Age</th>\n      <th>Outcome</th>\n    </tr>\n  </thead>\n  <tbody>\n    <tr>\n      <th>count</th>\n      <td>768.000000</td>\n      <td>768.000000</td>\n      <td>768.000000</td>\n      <td>768.000000</td>\n      <td>768.000000</td>\n      <td>768.000000</td>\n      <td>768.000000</td>\n      <td>768.000000</td>\n      <td>768.000000</td>\n    </tr>\n    <tr>\n      <th>mean</th>\n      <td>3.845052</td>\n      <td>120.894531</td>\n      <td>69.105469</td>\n      <td>20.536458</td>\n      <td>79.799479</td>\n      <td>31.992578</td>\n      <td>0.471876</td>\n      <td>33.240885</td>\n      <td>0.348958</td>\n    </tr>\n    <tr>\n      <th>std</th>\n      <td>3.369578</td>\n      <td>31.972618</td>\n      <td>19.355807</td>\n      <td>15.952218</td>\n      <td>115.244002</td>\n      <td>7.884160</td>\n      <td>0.331329</td>\n      <td>11.760232</td>\n      <td>0.476951</td>\n    </tr>\n    <tr>\n      <th>min</th>\n      <td>0.000000</td>\n      <td>0.000000</td>\n      <td>0.000000</td>\n      <td>0.000000</td>\n      <td>0.000000</td>\n      <td>0.000000</td>\n      <td>0.078000</td>\n      <td>21.000000</td>\n      <td>0.000000</td>\n    </tr>\n    <tr>\n      <th>25%</th>\n      <td>1.000000</td>\n      <td>99.000000</td>\n      <td>62.000000</td>\n      <td>0.000000</td>\n      <td>0.000000</td>\n      <td>27.300000</td>\n      <td>0.243750</td>\n      <td>24.000000</td>\n      <td>0.000000</td>\n    </tr>\n    <tr>\n      <th>50%</th>\n      <td>3.000000</td>\n      <td>117.000000</td>\n      <td>72.000000</td>\n      <td>23.000000</td>\n      <td>30.500000</td>\n      <td>32.000000</td>\n      <td>0.372500</td>\n      <td>29.000000</td>\n      <td>0.000000</td>\n    </tr>\n    <tr>\n      <th>75%</th>\n      <td>6.000000</td>\n      <td>140.250000</td>\n      <td>80.000000</td>\n      <td>32.000000</td>\n      <td>127.250000</td>\n      <td>36.600000</td>\n      <td>0.626250</td>\n      <td>41.000000</td>\n      <td>1.000000</td>\n    </tr>\n    <tr>\n      <th>max</th>\n      <td>17.000000</td>\n      <td>199.000000</td>\n      <td>122.000000</td>\n      <td>99.000000</td>\n      <td>846.000000</td>\n      <td>67.100000</td>\n      <td>2.420000</td>\n      <td>81.000000</td>\n      <td>1.000000</td>\n    </tr>\n  </tbody>\n</table>\n</div>"
          },
          "metadata": {}
        }
      ],
      "execution_count": 4,
      "metadata": {
        "collapsed": true,
        "jupyter": {
          "source_hidden": false,
          "outputs_hidden": false
        },
        "nteract": {
          "transient": {
            "deleting": false
          }
        },
        "gather": {
          "logged": 1613103073606
        }
      }
    },
    {
      "cell_type": "code",
      "source": [
        "dataset.take(5).to_pandas_dataframe()"
      ],
      "outputs": [
        {
          "output_type": "execute_result",
          "execution_count": 5,
          "data": {
            "text/plain": "   Pregnancies  Glucose  BloodPressure  SkinThickness  Insulin   BMI  \\\n0            6      148             72             35        0  33.6   \n1            1       85             66             29        0  26.6   \n2            8      183             64              0        0  23.3   \n3            1       89             66             23       94  28.1   \n4            0      137             40             35      168  43.1   \n\n   DiabetesPedigreeFunction  Age  Outcome  \n0                     0.627   50        1  \n1                     0.351   31        0  \n2                     0.672   32        1  \n3                     0.167   21        0  \n4                     2.288   33        1  ",
            "text/html": "<div>\n<style scoped>\n    .dataframe tbody tr th:only-of-type {\n        vertical-align: middle;\n    }\n\n    .dataframe tbody tr th {\n        vertical-align: top;\n    }\n\n    .dataframe thead th {\n        text-align: right;\n    }\n</style>\n<table border=\"1\" class=\"dataframe\">\n  <thead>\n    <tr style=\"text-align: right;\">\n      <th></th>\n      <th>Pregnancies</th>\n      <th>Glucose</th>\n      <th>BloodPressure</th>\n      <th>SkinThickness</th>\n      <th>Insulin</th>\n      <th>BMI</th>\n      <th>DiabetesPedigreeFunction</th>\n      <th>Age</th>\n      <th>Outcome</th>\n    </tr>\n  </thead>\n  <tbody>\n    <tr>\n      <th>0</th>\n      <td>6</td>\n      <td>148</td>\n      <td>72</td>\n      <td>35</td>\n      <td>0</td>\n      <td>33.6</td>\n      <td>0.627</td>\n      <td>50</td>\n      <td>1</td>\n    </tr>\n    <tr>\n      <th>1</th>\n      <td>1</td>\n      <td>85</td>\n      <td>66</td>\n      <td>29</td>\n      <td>0</td>\n      <td>26.6</td>\n      <td>0.351</td>\n      <td>31</td>\n      <td>0</td>\n    </tr>\n    <tr>\n      <th>2</th>\n      <td>8</td>\n      <td>183</td>\n      <td>64</td>\n      <td>0</td>\n      <td>0</td>\n      <td>23.3</td>\n      <td>0.672</td>\n      <td>32</td>\n      <td>1</td>\n    </tr>\n    <tr>\n      <th>3</th>\n      <td>1</td>\n      <td>89</td>\n      <td>66</td>\n      <td>23</td>\n      <td>94</td>\n      <td>28.1</td>\n      <td>0.167</td>\n      <td>21</td>\n      <td>0</td>\n    </tr>\n    <tr>\n      <th>4</th>\n      <td>0</td>\n      <td>137</td>\n      <td>40</td>\n      <td>35</td>\n      <td>168</td>\n      <td>43.1</td>\n      <td>2.288</td>\n      <td>33</td>\n      <td>1</td>\n    </tr>\n  </tbody>\n</table>\n</div>"
          },
          "metadata": {}
        }
      ],
      "execution_count": 5,
      "metadata": {
        "collapsed": true,
        "jupyter": {
          "source_hidden": false,
          "outputs_hidden": false
        },
        "nteract": {
          "transient": {
            "deleting": false
          }
        },
        "gather": {
          "logged": 1613103082984
        }
      }
    },
    {
      "cell_type": "markdown",
      "source": [
        "## AutoML Configuration\n",
        "\n",
        "TODO: Explain why you chose the automl settings and cofiguration you used below."
      ],
      "metadata": {}
    },
    {
      "cell_type": "code",
      "source": [
        "# TODO: Put your automl settings here\n",
        "automl_settings = {\n",
        "    \"experiment_timeout_minutes\": 30,\n",
        "    \"max_concurrent_iterations\": 3,\n",
        "    \"primary_metric\" : 'accuracy'\n",
        "}\n",
        "\n",
        "# TODO: Put your automl config here\n",
        "automl_config = AutoMLConfig(compute_target=compute_target,\n",
        "                             task = \"classification\",\n",
        "                             training_data=dataset,\n",
        "                             label_column_name=\"Outcome\",   \n",
        "                             path = project_folder,\n",
        "                             enable_early_stopping= True,\n",
        "                             featurization= 'auto',\n",
        "                             debug_log = \"automl_errors.log\",\n",
        "                             **automl_settings)"
      ],
      "outputs": [],
      "execution_count": 6,
      "metadata": {
        "gather": {
          "logged": 1613103091672
        },
        "jupyter": {
          "outputs_hidden": false,
          "source_hidden": false
        },
        "nteract": {
          "transient": {
            "deleting": false
          }
        }
      }
    },
    {
      "cell_type": "code",
      "source": [
        "# TODO: Submit your experiment\n",
        "remote_run = experiment.submit(automl_config)"
      ],
      "outputs": [
        {
          "output_type": "stream",
          "name": "stdout",
          "text": [
            "Running on remote.\n"
          ]
        }
      ],
      "execution_count": 7,
      "metadata": {
        "gather": {
          "logged": 1613103101726
        },
        "jupyter": {
          "outputs_hidden": false,
          "source_hidden": false
        },
        "nteract": {
          "transient": {
            "deleting": false
          }
        }
      }
    },
    {
      "cell_type": "markdown",
      "source": [
        "## Run Details\n",
        "\n",
        "OPTIONAL: Write about the different models trained and their performance. Why do you think some models did better than others?\n",
        "\n",
        "TODO: In the cell below, use the `RunDetails` widget to show the different experiments."
      ],
      "metadata": {}
    },
    {
      "cell_type": "code",
      "source": [
        "from azureml.widgets import RunDetails\r\n",
        "\r\n",
        "RunDetails(remote_run).show()\r\n"
      ],
      "outputs": [
        {
          "output_type": "display_data",
          "data": {
            "text/plain": "_AutoMLWidget(widget_settings={'childWidgetDisplay': 'popup', 'send_telemetry': False, 'log_level': 'INFO', 's…",
            "application/vnd.jupyter.widget-view+json": {
              "version_major": 2,
              "version_minor": 0,
              "model_id": "32a7b097739948b2b9291d5dc2952b11"
            }
          },
          "metadata": {}
        },
        {
          "output_type": "display_data",
          "data": {
            "application/aml.mini.widget.v1": "{\"status\": \"Completed\", \"workbench_run_details_uri\": \"https://ml.azure.com/experiments/diabetes/runs/AutoML_1023d585-090e-40a6-a2b7-437640d0b967?wsid=/subscriptions/d4ad7261-832d-46b2-b093-22156001df5b/resourcegroups/aml-quickstarts-138656/workspaces/quick-starts-ws-138656\", \"run_id\": \"AutoML_1023d585-090e-40a6-a2b7-437640d0b967\", \"run_properties\": {\"run_id\": \"AutoML_1023d585-090e-40a6-a2b7-437640d0b967\", \"created_utc\": \"2021-02-12T04:11:40.15263Z\", \"properties\": {\"num_iterations\": \"1000\", \"training_type\": \"TrainFull\", \"acquisition_function\": \"EI\", \"primary_metric\": \"accuracy\", \"train_split\": \"0\", \"acquisition_parameter\": \"0\", \"num_cross_validation\": null, \"target\": \"capcpu\", \"AMLSettingsJsonString\": \"{\\\"path\\\":null,\\\"name\\\":\\\"diabetes\\\",\\\"subscription_id\\\":\\\"d4ad7261-832d-46b2-b093-22156001df5b\\\",\\\"resource_group\\\":\\\"aml-quickstarts-138656\\\",\\\"workspace_name\\\":\\\"quick-starts-ws-138656\\\",\\\"region\\\":\\\"southcentralus\\\",\\\"compute_target\\\":\\\"capcpu\\\",\\\"spark_service\\\":null,\\\"azure_service\\\":\\\"remote\\\",\\\"many_models\\\":false,\\\"pipeline_fetch_max_batch_size\\\":1,\\\"iterations\\\":1000,\\\"primary_metric\\\":\\\"accuracy\\\",\\\"task_type\\\":\\\"classification\\\",\\\"data_script\\\":null,\\\"validation_size\\\":0.0,\\\"n_cross_validations\\\":null,\\\"y_min\\\":null,\\\"y_max\\\":null,\\\"num_classes\\\":null,\\\"featurization\\\":\\\"auto\\\",\\\"_ignore_package_version_incompatibilities\\\":false,\\\"is_timeseries\\\":false,\\\"max_cores_per_iteration\\\":1,\\\"max_concurrent_iterations\\\":3,\\\"iteration_timeout_minutes\\\":null,\\\"mem_in_mb\\\":null,\\\"enforce_time_on_windows\\\":false,\\\"experiment_timeout_minutes\\\":30,\\\"experiment_exit_score\\\":null,\\\"whitelist_models\\\":null,\\\"blacklist_algos\\\":[\\\"TensorFlowLinearClassifier\\\",\\\"TensorFlowDNN\\\"],\\\"supported_models\\\":[\\\"MultinomialNaiveBayes\\\",\\\"XGBoostClassifier\\\",\\\"KNN\\\",\\\"AveragedPerceptronClassifier\\\",\\\"SVM\\\",\\\"TensorFlowDNN\\\",\\\"LogisticRegression\\\",\\\"ExtremeRandomTrees\\\",\\\"GradientBoosting\\\",\\\"LightGBM\\\",\\\"LinearSVM\\\",\\\"DecisionTree\\\",\\\"SGD\\\",\\\"RandomForest\\\",\\\"BernoulliNaiveBayes\\\",\\\"TensorFlowLinearClassifier\\\"],\\\"auto_blacklist\\\":true,\\\"blacklist_samples_reached\\\":false,\\\"exclude_nan_labels\\\":true,\\\"verbosity\\\":20,\\\"_debug_log\\\":\\\"azureml_automl.log\\\",\\\"show_warnings\\\":false,\\\"model_explainability\\\":true,\\\"service_url\\\":null,\\\"sdk_url\\\":null,\\\"sdk_packages\\\":null,\\\"enable_onnx_compatible_models\\\":false,\\\"enable_split_onnx_featurizer_estimator_models\\\":false,\\\"vm_type\\\":\\\"STANDARD_D2_V2\\\",\\\"telemetry_verbosity\\\":20,\\\"send_telemetry\\\":true,\\\"enable_dnn\\\":false,\\\"scenario\\\":\\\"SDK-1.13.0\\\",\\\"environment_label\\\":null,\\\"force_text_dnn\\\":false,\\\"enable_feature_sweeping\\\":true,\\\"enable_early_stopping\\\":true,\\\"early_stopping_n_iters\\\":10,\\\"metrics\\\":null,\\\"enable_ensembling\\\":true,\\\"enable_stack_ensembling\\\":true,\\\"ensemble_iterations\\\":15,\\\"enable_tf\\\":false,\\\"enable_subsampling\\\":null,\\\"subsample_seed\\\":null,\\\"enable_nimbusml\\\":false,\\\"enable_streaming\\\":false,\\\"force_streaming\\\":false,\\\"track_child_runs\\\":true,\\\"allowed_private_models\\\":[],\\\"label_column_name\\\":\\\"Outcome\\\",\\\"weight_column_name\\\":null,\\\"cv_split_column_names\\\":null,\\\"enable_local_managed\\\":false,\\\"_local_managed_run_id\\\":null,\\\"cost_mode\\\":1,\\\"lag_length\\\":0,\\\"metric_operation\\\":\\\"maximize\\\",\\\"preprocess\\\":true}\", \"DataPrepJsonString\": \"{\\\\\\\"training_data\\\\\\\": \\\\\\\"{\\\\\\\\\\\\\\\"blocks\\\\\\\\\\\\\\\": [{\\\\\\\\\\\\\\\"id\\\\\\\\\\\\\\\": \\\\\\\\\\\\\\\"c5c03420-e15f-4ab7-8b9a-e513e867adcb\\\\\\\\\\\\\\\", \\\\\\\\\\\\\\\"type\\\\\\\\\\\\\\\": \\\\\\\\\\\\\\\"Microsoft.DPrep.GetFilesBlock\\\\\\\\\\\\\\\", \\\\\\\\\\\\\\\"arguments\\\\\\\\\\\\\\\": {\\\\\\\\\\\\\\\"isArchive\\\\\\\\\\\\\\\": false, \\\\\\\\\\\\\\\"path\\\\\\\\\\\\\\\": {\\\\\\\\\\\\\\\"target\\\\\\\\\\\\\\\": 4, \\\\\\\\\\\\\\\"resourceDetails\\\\\\\\\\\\\\\": [{\\\\\\\\\\\\\\\"path\\\\\\\\\\\\\\\": \\\\\\\\\\\\\\\"https://raw.githubusercontent.com/SaraSrkr/Capstone-Prpject/main/diabetes.csv\\\\\\\\\\\\\\\"}]}}, \\\\\\\\\\\\\\\"localData\\\\\\\\\\\\\\\": {}, \\\\\\\\\\\\\\\"isEnabled\\\\\\\\\\\\\\\": true, \\\\\\\\\\\\\\\"name\\\\\\\\\\\\\\\": null, \\\\\\\\\\\\\\\"annotation\\\\\\\\\\\\\\\": null}, {\\\\\\\\\\\\\\\"id\\\\\\\\\\\\\\\": \\\\\\\\\\\\\\\"77e3290b-9381-44f8-870b-4b81ce8a3f7a\\\\\\\\\\\\\\\", \\\\\\\\\\\\\\\"type\\\\\\\\\\\\\\\": \\\\\\\\\\\\\\\"Microsoft.DPrep.ParseDelimitedBlock\\\\\\\\\\\\\\\", \\\\\\\\\\\\\\\"arguments\\\\\\\\\\\\\\\": {\\\\\\\\\\\\\\\"columnHeadersMode\\\\\\\\\\\\\\\": 3, \\\\\\\\\\\\\\\"fileEncoding\\\\\\\\\\\\\\\": 0, \\\\\\\\\\\\\\\"handleQuotedLineBreaks\\\\\\\\\\\\\\\": false, \\\\\\\\\\\\\\\"preview\\\\\\\\\\\\\\\": false, \\\\\\\\\\\\\\\"separator\\\\\\\\\\\\\\\": \\\\\\\\\\\\\\\",\\\\\\\\\\\\\\\", \\\\\\\\\\\\\\\"skipRows\\\\\\\\\\\\\\\": 0, \\\\\\\\\\\\\\\"skipRowsMode\\\\\\\\\\\\\\\": 0}, \\\\\\\\\\\\\\\"localData\\\\\\\\\\\\\\\": {}, \\\\\\\\\\\\\\\"isEnabled\\\\\\\\\\\\\\\": true, \\\\\\\\\\\\\\\"name\\\\\\\\\\\\\\\": null, \\\\\\\\\\\\\\\"annotation\\\\\\\\\\\\\\\": null}, {\\\\\\\\\\\\\\\"id\\\\\\\\\\\\\\\": \\\\\\\\\\\\\\\"041755ff-28e8-44f4-ad6a-3a98941a64cb\\\\\\\\\\\\\\\", \\\\\\\\\\\\\\\"type\\\\\\\\\\\\\\\": \\\\\\\\\\\\\\\"Microsoft.DPrep.DropColumnsBlock\\\\\\\\\\\\\\\", \\\\\\\\\\\\\\\"arguments\\\\\\\\\\\\\\\": {\\\\\\\\\\\\\\\"columns\\\\\\\\\\\\\\\": {\\\\\\\\\\\\\\\"type\\\\\\\\\\\\\\\": 0, \\\\\\\\\\\\\\\"details\\\\\\\\\\\\\\\": {\\\\\\\\\\\\\\\"selectedColumns\\\\\\\\\\\\\\\": [\\\\\\\\\\\\\\\"Path\\\\\\\\\\\\\\\"]}}}, \\\\\\\\\\\\\\\"localData\\\\\\\\\\\\\\\": {}, \\\\\\\\\\\\\\\"isEnabled\\\\\\\\\\\\\\\": true, \\\\\\\\\\\\\\\"name\\\\\\\\\\\\\\\": null, \\\\\\\\\\\\\\\"annotation\\\\\\\\\\\\\\\": null}, {\\\\\\\\\\\\\\\"id\\\\\\\\\\\\\\\": \\\\\\\\\\\\\\\"0d8eab2a-1892-4916-87dc-3db3f1336df3\\\\\\\\\\\\\\\", \\\\\\\\\\\\\\\"type\\\\\\\\\\\\\\\": \\\\\\\\\\\\\\\"Microsoft.DPrep.SetColumnTypesBlock\\\\\\\\\\\\\\\", \\\\\\\\\\\\\\\"arguments\\\\\\\\\\\\\\\": {\\\\\\\\\\\\\\\"columnConversion\\\\\\\\\\\\\\\": [{\\\\\\\\\\\\\\\"column\\\\\\\\\\\\\\\": {\\\\\\\\\\\\\\\"type\\\\\\\\\\\\\\\": 2, \\\\\\\\\\\\\\\"details\\\\\\\\\\\\\\\": {\\\\\\\\\\\\\\\"selectedColumn\\\\\\\\\\\\\\\": \\\\\\\\\\\\\\\"Pregnancies\\\\\\\\\\\\\\\"}}, \\\\\\\\\\\\\\\"typeProperty\\\\\\\\\\\\\\\": 2}, {\\\\\\\\\\\\\\\"column\\\\\\\\\\\\\\\": {\\\\\\\\\\\\\\\"type\\\\\\\\\\\\\\\": 2, \\\\\\\\\\\\\\\"details\\\\\\\\\\\\\\\": {\\\\\\\\\\\\\\\"selectedColumn\\\\\\\\\\\\\\\": \\\\\\\\\\\\\\\"Glucose\\\\\\\\\\\\\\\"}}, \\\\\\\\\\\\\\\"typeProperty\\\\\\\\\\\\\\\": 2}, {\\\\\\\\\\\\\\\"column\\\\\\\\\\\\\\\": {\\\\\\\\\\\\\\\"type\\\\\\\\\\\\\\\": 2, \\\\\\\\\\\\\\\"details\\\\\\\\\\\\\\\": {\\\\\\\\\\\\\\\"selectedColumn\\\\\\\\\\\\\\\": \\\\\\\\\\\\\\\"BloodPressure\\\\\\\\\\\\\\\"}}, \\\\\\\\\\\\\\\"typeProperty\\\\\\\\\\\\\\\": 2}, {\\\\\\\\\\\\\\\"column\\\\\\\\\\\\\\\": {\\\\\\\\\\\\\\\"type\\\\\\\\\\\\\\\": 2, \\\\\\\\\\\\\\\"details\\\\\\\\\\\\\\\": {\\\\\\\\\\\\\\\"selectedColumn\\\\\\\\\\\\\\\": \\\\\\\\\\\\\\\"SkinThickness\\\\\\\\\\\\\\\"}}, \\\\\\\\\\\\\\\"typeProperty\\\\\\\\\\\\\\\": 2}, {\\\\\\\\\\\\\\\"column\\\\\\\\\\\\\\\": {\\\\\\\\\\\\\\\"type\\\\\\\\\\\\\\\": 2, \\\\\\\\\\\\\\\"details\\\\\\\\\\\\\\\": {\\\\\\\\\\\\\\\"selectedColumn\\\\\\\\\\\\\\\": \\\\\\\\\\\\\\\"Insulin\\\\\\\\\\\\\\\"}}, \\\\\\\\\\\\\\\"typeProperty\\\\\\\\\\\\\\\": 2}, {\\\\\\\\\\\\\\\"column\\\\\\\\\\\\\\\": {\\\\\\\\\\\\\\\"type\\\\\\\\\\\\\\\": 2, \\\\\\\\\\\\\\\"details\\\\\\\\\\\\\\\": {\\\\\\\\\\\\\\\"selectedColumn\\\\\\\\\\\\\\\": \\\\\\\\\\\\\\\"BMI\\\\\\\\\\\\\\\"}}, \\\\\\\\\\\\\\\"typeProperty\\\\\\\\\\\\\\\": 3}, {\\\\\\\\\\\\\\\"column\\\\\\\\\\\\\\\": {\\\\\\\\\\\\\\\"type\\\\\\\\\\\\\\\": 2, \\\\\\\\\\\\\\\"details\\\\\\\\\\\\\\\": {\\\\\\\\\\\\\\\"selectedColumn\\\\\\\\\\\\\\\": \\\\\\\\\\\\\\\"DiabetesPedigreeFunction\\\\\\\\\\\\\\\"}}, \\\\\\\\\\\\\\\"typeProperty\\\\\\\\\\\\\\\": 3}, {\\\\\\\\\\\\\\\"column\\\\\\\\\\\\\\\": {\\\\\\\\\\\\\\\"type\\\\\\\\\\\\\\\": 2, \\\\\\\\\\\\\\\"details\\\\\\\\\\\\\\\": {\\\\\\\\\\\\\\\"selectedColumn\\\\\\\\\\\\\\\": \\\\\\\\\\\\\\\"Age\\\\\\\\\\\\\\\"}}, \\\\\\\\\\\\\\\"typeProperty\\\\\\\\\\\\\\\": 2}, {\\\\\\\\\\\\\\\"column\\\\\\\\\\\\\\\": {\\\\\\\\\\\\\\\"type\\\\\\\\\\\\\\\": 2, \\\\\\\\\\\\\\\"details\\\\\\\\\\\\\\\": {\\\\\\\\\\\\\\\"selectedColumn\\\\\\\\\\\\\\\": \\\\\\\\\\\\\\\"Outcome\\\\\\\\\\\\\\\"}}, \\\\\\\\\\\\\\\"typeProperty\\\\\\\\\\\\\\\": 2}]}, \\\\\\\\\\\\\\\"localData\\\\\\\\\\\\\\\": {}, \\\\\\\\\\\\\\\"isEnabled\\\\\\\\\\\\\\\": true, \\\\\\\\\\\\\\\"name\\\\\\\\\\\\\\\": null, \\\\\\\\\\\\\\\"annotation\\\\\\\\\\\\\\\": null}], \\\\\\\\\\\\\\\"inspectors\\\\\\\\\\\\\\\": [], \\\\\\\\\\\\\\\"meta\\\\\\\\\\\\\\\": {\\\\\\\\\\\\\\\"savedDatasetId\\\\\\\\\\\\\\\": \\\\\\\\\\\\\\\"c1a08b46-6ee2-4277-8bdf-137d96bcc932\\\\\\\\\\\\\\\", \\\\\\\\\\\\\\\"datasetType\\\\\\\\\\\\\\\": \\\\\\\\\\\\\\\"tabular\\\\\\\\\\\\\\\", \\\\\\\\\\\\\\\"subscriptionId\\\\\\\\\\\\\\\": \\\\\\\\\\\\\\\"d4ad7261-832d-46b2-b093-22156001df5b\\\\\\\\\\\\\\\", \\\\\\\\\\\\\\\"workspaceId\\\\\\\\\\\\\\\": \\\\\\\\\\\\\\\"9cf052a2-4b3a-41ab-b289-c1b4446d31df\\\\\\\\\\\\\\\", \\\\\\\\\\\\\\\"workspaceLocation\\\\\\\\\\\\\\\": \\\\\\\\\\\\\\\"southcentralus\\\\\\\\\\\\\\\"}}\\\\\\\", \\\\\\\"activities\\\\\\\": 0}\", \"EnableSubsampling\": null, \"runTemplate\": \"AutoML\", \"azureml.runsource\": \"automl\", \"display_task_type\": \"classification\", \"dependencies_versions\": \"{\\\"azureml-widgets\\\": \\\"1.20.0\\\", \\\"azureml-train\\\": \\\"1.20.0\\\", \\\"azureml-train-restclients-hyperdrive\\\": \\\"1.20.0\\\", \\\"azureml-train-core\\\": \\\"1.20.0\\\", \\\"azureml-train-automl\\\": \\\"1.20.0\\\", \\\"azureml-train-automl-runtime\\\": \\\"1.20.0\\\", \\\"azureml-train-automl-client\\\": \\\"1.20.0\\\", \\\"azureml-tensorboard\\\": \\\"1.20.0\\\", \\\"azureml-telemetry\\\": \\\"1.20.0\\\", \\\"azureml-sdk\\\": \\\"1.20.0\\\", \\\"azureml-samples\\\": \\\"0+unknown\\\", \\\"azureml-pipeline\\\": \\\"1.20.0\\\", \\\"azureml-pipeline-steps\\\": \\\"1.20.0\\\", \\\"azureml-pipeline-core\\\": \\\"1.20.0\\\", \\\"azureml-opendatasets\\\": \\\"1.20.0\\\", \\\"azureml-model-management-sdk\\\": \\\"1.0.1b6.post1\\\", \\\"azureml-mlflow\\\": \\\"1.20.0.post1\\\", \\\"azureml-interpret\\\": \\\"1.20.0\\\", \\\"azureml-explain-model\\\": \\\"1.20.0\\\", \\\"azureml-defaults\\\": \\\"1.20.0\\\", \\\"azureml-dataset-runtime\\\": \\\"1.20.0\\\", \\\"azureml-dataprep\\\": \\\"2.7.3\\\", \\\"azureml-dataprep-rslex\\\": \\\"1.5.0\\\", \\\"azureml-dataprep-native\\\": \\\"27.0.0\\\", \\\"azureml-datadrift\\\": \\\"1.20.0\\\", \\\"azureml-core\\\": \\\"1.20.0\\\", \\\"azureml-contrib-services\\\": \\\"1.20.0\\\", \\\"azureml-contrib-server\\\": \\\"1.20.0\\\", \\\"azureml-contrib-reinforcementlearning\\\": \\\"1.20.0\\\", \\\"azureml-contrib-pipeline-steps\\\": \\\"1.20.0\\\", \\\"azureml-contrib-notebook\\\": \\\"1.20.0\\\", \\\"azureml-contrib-interpret\\\": \\\"1.20.0\\\", \\\"azureml-contrib-gbdt\\\": \\\"1.20.0\\\", \\\"azureml-contrib-fairness\\\": \\\"1.20.0\\\", \\\"azureml-contrib-dataset\\\": \\\"1.20.0\\\", \\\"azureml-cli-common\\\": \\\"1.20.0\\\", \\\"azureml-automl-runtime\\\": \\\"1.20.0\\\", \\\"azureml-automl-core\\\": \\\"1.20.0\\\", \\\"azureml-accel-models\\\": \\\"1.20.0\\\"}\", \"_aml_system_scenario_identification\": \"Remote.Parent\", \"ClientType\": \"SDK\", \"environment_cpu_name\": \"AzureML-AutoML\", \"environment_cpu_label\": \"prod\", \"environment_gpu_name\": \"AzureML-AutoML-GPU\", \"environment_gpu_label\": \"prod\", \"root_attribution\": \"automl\", \"attribution\": \"AutoML\", \"Orchestrator\": \"AutoML\", \"CancelUri\": \"https://southcentralus.experiments.azureml.net/jasmine/v1.0/subscriptions/d4ad7261-832d-46b2-b093-22156001df5b/resourceGroups/aml-quickstarts-138656/providers/Microsoft.MachineLearningServices/workspaces/quick-starts-ws-138656/experimentids/578c1959-c431-4ff6-a4f1-4245927e3243/cancel/AutoML_1023d585-090e-40a6-a2b7-437640d0b967\", \"ClientSdkVersion\": \"1.21.0\", \"snapshotId\": \"00000000-0000-0000-0000-000000000000\", \"SetupRunId\": \"AutoML_1023d585-090e-40a6-a2b7-437640d0b967_setup\", \"SetupRunContainerId\": \"dcid.AutoML_1023d585-090e-40a6-a2b7-437640d0b967_setup\", \"FeaturizationRunJsonPath\": \"featurizer_container.json\", \"FeaturizationRunId\": \"AutoML_1023d585-090e-40a6-a2b7-437640d0b967_featurize\", \"ProblemInfoJsonString\": \"{\\\"dataset_num_categorical\\\": 0, \\\"is_sparse\\\": true, \\\"subsampling\\\": false, \\\"dataset_classes\\\": 2, \\\"dataset_features\\\": 24, \\\"dataset_samples\\\": 768, \\\"single_frequency_class_detected\\\": false}\", \"ModelExplainRunId\": \"AutoML_1023d585-090e-40a6-a2b7-437640d0b967_ModelExplain\"}, \"tags\": {\"model_explain_run\": \"best_run\", \"_aml_system_azureml.automlComponent\": \"AutoML\", \"pipeline_id\": \"\", \"score\": \"\", \"predicted_cost\": \"\", \"fit_time\": \"\", \"training_percent\": \"\", \"iteration\": \"\", \"run_preprocessor\": \"\", \"run_algorithm\": \"\", \"dynamic_whitelisting_iterations\": \"<25>;<30>;\", \"automl_best_child_run_id\": \"AutoML_1023d585-090e-40a6-a2b7-437640d0b967_34\", \"model_explain_best_run_child_id\": \"AutoML_1023d585-090e-40a6-a2b7-437640d0b967_34\"}, \"end_time_utc\": \"2021-02-12T04:40:42.910121Z\", \"status\": \"Completed\", \"log_files\": {}, \"log_groups\": [], \"run_duration\": \"0:29:02\"}, \"child_runs\": [{\"run_id\": \"AutoML_1023d585-090e-40a6-a2b7-437640d0b967_0\", \"run_number\": 5, \"metric\": null, \"status\": \"Completed\", \"run_type\": \"azureml.scriptrun\", \"training_percent\": \"100\", \"start_time\": \"2021-02-12T04:21:35.108793Z\", \"end_time\": \"2021-02-12T04:22:29.404321Z\", \"created_time\": \"2021-02-12T04:21:23.019331Z\", \"created_time_dt\": \"2021-02-12T04:21:23.019331Z\", \"duration\": \"0:01:06\", \"iteration\": \"0\", \"goal\": \"accuracy_max\", \"run_name\": \"MaxAbsScaler, LightGBM\", \"run_properties\": \"copy=True\", \"primary_metric\": 0.73961039, \"best_metric\": 0.73961039}, {\"run_id\": \"AutoML_1023d585-090e-40a6-a2b7-437640d0b967_1\", \"run_number\": 6, \"metric\": null, \"status\": \"Completed\", \"run_type\": \"azureml.scriptrun\", \"training_percent\": \"100\", \"start_time\": \"2021-02-12T04:23:36.944948Z\", \"end_time\": \"2021-02-12T04:24:35.733004Z\", \"created_time\": \"2021-02-12T04:21:23.021942Z\", \"created_time_dt\": \"2021-02-12T04:21:23.021942Z\", \"duration\": \"0:03:12\", \"iteration\": \"1\", \"goal\": \"accuracy_max\", \"run_name\": \"MaxAbsScaler, XGBoostClassifier\", \"run_properties\": \"copy=True\", \"primary_metric\": 0.76956596, \"best_metric\": 0.76956596}, {\"run_id\": \"AutoML_1023d585-090e-40a6-a2b7-437640d0b967_2\", \"run_number\": 7, \"metric\": null, \"status\": \"Completed\", \"run_type\": \"azureml.scriptrun\", \"training_percent\": \"100\", \"start_time\": \"2021-02-12T04:22:37.280874Z\", \"end_time\": \"2021-02-12T04:23:33.486203Z\", \"created_time\": \"2021-02-12T04:21:23.02336Z\", \"created_time_dt\": \"2021-02-12T04:21:23.02336Z\", \"duration\": \"0:02:10\", \"iteration\": \"2\", \"goal\": \"accuracy_max\", \"run_name\": \"MaxAbsScaler, RandomForest\", \"run_properties\": \"copy=True\", \"primary_metric\": 0.75136705, \"best_metric\": 0.76956596}, {\"run_id\": \"AutoML_1023d585-090e-40a6-a2b7-437640d0b967_3\", \"run_number\": 8, \"metric\": null, \"status\": \"Completed\", \"run_type\": \"azureml.scriptrun\", \"training_percent\": \"100\", \"start_time\": \"2021-02-12T04:24:39.744527Z\", \"end_time\": \"2021-02-12T04:25:32.474017Z\", \"created_time\": \"2021-02-12T04:22:30.729836Z\", \"created_time_dt\": \"2021-02-12T04:22:30.729836Z\", \"duration\": \"0:03:01\", \"iteration\": \"3\", \"goal\": \"accuracy_max\", \"run_name\": \"MaxAbsScaler, RandomForest\", \"run_properties\": \"copy=True\", \"primary_metric\": 0.73564593, \"best_metric\": 0.76956596}, {\"run_id\": \"AutoML_1023d585-090e-40a6-a2b7-437640d0b967_4\", \"run_number\": 9, \"metric\": null, \"status\": \"Completed\", \"run_type\": \"azureml.scriptrun\", \"training_percent\": \"100\", \"start_time\": \"2021-02-12T04:24:40.470261Z\", \"end_time\": \"2021-02-12T04:28:19.36002Z\", \"created_time\": \"2021-02-12T04:23:37.67517Z\", \"created_time_dt\": \"2021-02-12T04:23:37.67517Z\", \"duration\": \"0:04:41\", \"iteration\": \"4\", \"goal\": \"accuracy_max\", \"run_name\": \"MaxAbsScaler, RandomForest\", \"run_properties\": \"copy=True\", \"primary_metric\": 0.74487355, \"best_metric\": 0.76956596}, {\"run_id\": \"AutoML_1023d585-090e-40a6-a2b7-437640d0b967_5\", \"run_number\": 10, \"metric\": null, \"status\": \"Completed\", \"run_type\": \"azureml.scriptrun\", \"training_percent\": \"100\", \"start_time\": \"2021-02-12T04:24:53.036595Z\", \"end_time\": \"2021-02-12T04:28:22.812182Z\", \"created_time\": \"2021-02-12T04:24:39.487925Z\", \"created_time_dt\": \"2021-02-12T04:24:39.487925Z\", \"duration\": \"0:03:43\", \"iteration\": \"5\", \"goal\": \"accuracy_max\", \"run_name\": \"MaxAbsScaler, RandomForest\", \"run_properties\": \"copy=True\", \"primary_metric\": 0.7265892, \"best_metric\": 0.76956596}, {\"run_id\": \"AutoML_1023d585-090e-40a6-a2b7-437640d0b967_6\", \"run_number\": 11, \"metric\": null, \"status\": \"Completed\", \"run_type\": \"azureml.scriptrun\", \"training_percent\": \"100\", \"start_time\": \"2021-02-12T04:25:50.192981Z\", \"end_time\": \"2021-02-12T04:26:50.377403Z\", \"created_time\": \"2021-02-12T04:25:36.201608Z\", \"created_time_dt\": \"2021-02-12T04:25:36.201608Z\", \"duration\": \"0:01:14\", \"iteration\": \"6\", \"goal\": \"accuracy_max\", \"run_name\": \"SparseNormalizer, XGBoostClassifier\", \"run_properties\": \"<azureml.automl.runtime.shared.model_wrappers.SparseNormalizer object at 0x7ff846cb3198\", \"primary_metric\": 0.71093643, \"best_metric\": 0.76956596}, {\"run_id\": \"AutoML_1023d585-090e-40a6-a2b7-437640d0b967_7\", \"run_number\": 12, \"metric\": null, \"status\": \"Completed\", \"run_type\": \"azureml.scriptrun\", \"training_percent\": \"100\", \"start_time\": \"2021-02-12T04:27:08.274982Z\", \"end_time\": \"2021-02-12T04:28:00.865829Z\", \"created_time\": \"2021-02-12T04:26:53.935706Z\", \"created_time_dt\": \"2021-02-12T04:26:53.935706Z\", \"duration\": \"0:01:06\", \"iteration\": \"7\", \"goal\": \"accuracy_max\", \"run_name\": \"MaxAbsScaler, LogisticRegression\", \"run_properties\": \"copy=True\", \"primary_metric\": 0.77218045, \"best_metric\": 0.77218045}, {\"run_id\": \"AutoML_1023d585-090e-40a6-a2b7-437640d0b967_8\", \"run_number\": 13, \"metric\": null, \"status\": \"Completed\", \"run_type\": \"azureml.scriptrun\", \"training_percent\": \"100\", \"start_time\": \"2021-02-12T04:28:16.346446Z\", \"end_time\": \"2021-02-12T04:29:11.854392Z\", \"created_time\": \"2021-02-12T04:28:04.049886Z\", \"created_time_dt\": \"2021-02-12T04:28:04.049886Z\", \"duration\": \"0:01:07\", \"iteration\": \"8\", \"goal\": \"accuracy_max\", \"run_name\": \"StandardScalerWrapper, RandomForest\", \"run_properties\": \"<azureml.automl.runtime.shared.model_wrappers.StandardScalerWrapper object at 0x7f70ec276588\", \"primary_metric\": 0.7578093, \"best_metric\": 0.77218045}, {\"run_id\": \"AutoML_1023d585-090e-40a6-a2b7-437640d0b967_9\", \"run_number\": 14, \"metric\": null, \"status\": \"Completed\", \"run_type\": \"azureml.scriptrun\", \"training_percent\": \"100\", \"start_time\": \"2021-02-12T04:28:35.596593Z\", \"end_time\": \"2021-02-12T04:29:31.070838Z\", \"created_time\": \"2021-02-12T04:28:21.920776Z\", \"created_time_dt\": \"2021-02-12T04:28:21.920776Z\", \"duration\": \"0:01:09\", \"iteration\": \"9\", \"goal\": \"accuracy_max\", \"run_name\": \"MaxAbsScaler, RandomForest\", \"run_properties\": \"copy=True\", \"primary_metric\": 0.74478811, \"best_metric\": 0.77218045}, {\"run_id\": \"AutoML_1023d585-090e-40a6-a2b7-437640d0b967_10\", \"run_number\": 15, \"metric\": null, \"status\": \"Completed\", \"run_type\": \"azureml.scriptrun\", \"training_percent\": \"100\", \"start_time\": \"2021-02-12T04:28:40.572229Z\", \"end_time\": \"2021-02-12T04:29:33.475261Z\", \"created_time\": \"2021-02-12T04:28:27.181644Z\", \"created_time_dt\": \"2021-02-12T04:28:27.181644Z\", \"duration\": \"0:01:06\", \"iteration\": \"10\", \"goal\": \"accuracy_max\", \"run_name\": \"SparseNormalizer, XGBoostClassifier\", \"run_properties\": \"<azureml.automl.runtime.shared.model_wrappers.SparseNormalizer object at 0x7f991854c438\", \"primary_metric\": 0.65625427, \"best_metric\": 0.77218045}, {\"run_id\": \"AutoML_1023d585-090e-40a6-a2b7-437640d0b967_11\", \"run_number\": 16, \"metric\": null, \"status\": \"Completed\", \"run_type\": \"azureml.scriptrun\", \"training_percent\": \"100\", \"start_time\": \"2021-02-12T04:29:25.83179Z\", \"end_time\": \"2021-02-12T04:30:30.027507Z\", \"created_time\": \"2021-02-12T04:29:14.569425Z\", \"created_time_dt\": \"2021-02-12T04:29:14.569425Z\", \"duration\": \"0:01:15\", \"iteration\": \"11\", \"goal\": \"accuracy_max\", \"run_name\": \"MaxAbsScaler, ExtremeRandomTrees\", \"run_properties\": \"copy=True\", \"primary_metric\": 0.7395933, \"best_metric\": 0.77218045}, {\"run_id\": \"AutoML_1023d585-090e-40a6-a2b7-437640d0b967_12\", \"run_number\": 17, \"metric\": null, \"status\": \"Completed\", \"run_type\": \"azureml.scriptrun\", \"training_percent\": \"100\", \"start_time\": \"2021-02-12T04:29:45.542207Z\", \"end_time\": \"2021-02-12T04:30:39.219301Z\", \"created_time\": \"2021-02-12T04:29:33.345434Z\", \"created_time_dt\": \"2021-02-12T04:29:33.345434Z\", \"duration\": \"0:01:05\", \"iteration\": \"12\", \"goal\": \"accuracy_max\", \"run_name\": \"MaxAbsScaler, LightGBM\", \"run_properties\": \"copy=True\", \"primary_metric\": 0.75133288, \"best_metric\": 0.77218045}, {\"run_id\": \"AutoML_1023d585-090e-40a6-a2b7-437640d0b967_13\", \"run_number\": 18, \"metric\": null, \"status\": \"Completed\", \"run_type\": \"azureml.scriptrun\", \"training_percent\": \"100\", \"start_time\": \"2021-02-12T04:29:51.294252Z\", \"end_time\": \"2021-02-12T04:30:43.81988Z\", \"created_time\": \"2021-02-12T04:29:38.028516Z\", \"created_time_dt\": \"2021-02-12T04:29:38.028516Z\", \"duration\": \"0:01:05\", \"iteration\": \"13\", \"goal\": \"accuracy_max\", \"run_name\": \"StandardScalerWrapper, LightGBM\", \"run_properties\": \"<azureml.automl.runtime.shared.model_wrappers.StandardScalerWrapper object at 0x7fae2c762d30\", \"primary_metric\": 0.76307245, \"best_metric\": 0.77218045}, {\"run_id\": \"AutoML_1023d585-090e-40a6-a2b7-437640d0b967_14\", \"run_number\": 19, \"metric\": null, \"status\": \"Completed\", \"run_type\": \"azureml.scriptrun\", \"training_percent\": \"100\", \"start_time\": \"2021-02-12T04:30:46.483993Z\", \"end_time\": \"2021-02-12T04:31:44.92978Z\", \"created_time\": \"2021-02-12T04:30:32.682686Z\", \"created_time_dt\": \"2021-02-12T04:30:32.682686Z\", \"duration\": \"0:01:12\", \"iteration\": \"14\", \"goal\": \"accuracy_max\", \"run_name\": \"MaxAbsScaler, LightGBM\", \"run_properties\": \"copy=True\", \"primary_metric\": 0.76044087, \"best_metric\": 0.77218045}, {\"run_id\": \"AutoML_1023d585-090e-40a6-a2b7-437640d0b967_15\", \"run_number\": 20, \"metric\": null, \"status\": \"Completed\", \"run_type\": \"azureml.scriptrun\", \"training_percent\": \"100\", \"start_time\": \"2021-02-12T04:30:56.773363Z\", \"end_time\": \"2021-02-12T04:31:46.073545Z\", \"created_time\": \"2021-02-12T04:30:41.64206Z\", \"created_time_dt\": \"2021-02-12T04:30:41.64206Z\", \"duration\": \"0:01:04\", \"iteration\": \"15\", \"goal\": \"accuracy_max\", \"run_name\": \"MaxAbsScaler, LogisticRegression\", \"run_properties\": \"copy=True\", \"primary_metric\": 0.76828435, \"best_metric\": 0.77218045}, {\"run_id\": \"AutoML_1023d585-090e-40a6-a2b7-437640d0b967_16\", \"run_number\": 21, \"metric\": null, \"status\": \"Completed\", \"run_type\": \"azureml.scriptrun\", \"training_percent\": \"100\", \"start_time\": \"2021-02-12T04:31:00.227342Z\", \"end_time\": \"2021-02-12T04:31:54.411559Z\", \"created_time\": \"2021-02-12T04:30:48.37983Z\", \"created_time_dt\": \"2021-02-12T04:30:48.37983Z\", \"duration\": \"0:01:06\", \"iteration\": \"16\", \"goal\": \"accuracy_max\", \"run_name\": \"TruncatedSVDWrapper, XGBoostClassifier\", \"run_properties\": \"n_components=0.6036842105263158, random_state=None\", \"primary_metric\": 0.75926179, \"best_metric\": 0.77218045}, {\"run_id\": \"AutoML_1023d585-090e-40a6-a2b7-437640d0b967_17\", \"run_number\": 22, \"metric\": null, \"status\": \"Completed\", \"run_type\": \"azureml.scriptrun\", \"training_percent\": \"100\", \"start_time\": \"2021-02-12T04:32:00.462672Z\", \"end_time\": \"2021-02-12T04:32:51.918204Z\", \"created_time\": \"2021-02-12T04:31:47.6333Z\", \"created_time_dt\": \"2021-02-12T04:31:47.6333Z\", \"duration\": \"0:01:04\", \"iteration\": \"17\", \"goal\": \"accuracy_max\", \"run_name\": \"MaxAbsScaler, LightGBM\", \"run_properties\": \"copy=True\", \"primary_metric\": 0.77089884, \"best_metric\": 0.77218045}, {\"run_id\": \"AutoML_1023d585-090e-40a6-a2b7-437640d0b967_18\", \"run_number\": 23, \"metric\": null, \"status\": \"Completed\", \"run_type\": \"azureml.scriptrun\", \"training_percent\": \"100\", \"start_time\": \"2021-02-12T04:32:04.693794Z\", \"end_time\": \"2021-02-12T04:33:01.279731Z\", \"created_time\": \"2021-02-12T04:31:53.393648Z\", \"created_time_dt\": \"2021-02-12T04:31:53.393648Z\", \"duration\": \"0:01:07\", \"iteration\": \"18\", \"goal\": \"accuracy_max\", \"run_name\": \"SparseNormalizer, RandomForest\", \"run_properties\": \"<azureml.automl.runtime.shared.model_wrappers.SparseNormalizer object at 0x7f445f7f0cc0\", \"primary_metric\": 0.700581, \"best_metric\": 0.77218045}, {\"run_id\": \"AutoML_1023d585-090e-40a6-a2b7-437640d0b967_19\", \"run_number\": 24, \"metric\": null, \"status\": \"Completed\", \"run_type\": \"azureml.scriptrun\", \"training_percent\": \"100\", \"start_time\": \"2021-02-12T04:32:08.318822Z\", \"end_time\": \"2021-02-12T04:33:04.707588Z\", \"created_time\": \"2021-02-12T04:31:57.679279Z\", \"created_time_dt\": \"2021-02-12T04:31:57.679279Z\", \"duration\": \"0:01:07\", \"iteration\": \"19\", \"goal\": \"accuracy_max\", \"run_name\": \"SparseNormalizer, XGBoostClassifier\", \"run_properties\": \"<azureml.automl.runtime.shared.model_wrappers.SparseNormalizer object at 0x7fe1d9e5ba58\", \"primary_metric\": 0.70960355, \"best_metric\": 0.77218045}, {\"run_id\": \"AutoML_1023d585-090e-40a6-a2b7-437640d0b967_20\", \"run_number\": 25, \"metric\": null, \"status\": \"Completed\", \"run_type\": \"azureml.scriptrun\", \"training_percent\": \"100\", \"start_time\": \"2021-02-12T04:33:07.247834Z\", \"end_time\": \"2021-02-12T04:34:08.413417Z\", \"created_time\": \"2021-02-12T04:32:54.869491Z\", \"created_time_dt\": \"2021-02-12T04:32:54.869491Z\", \"duration\": \"0:01:13\", \"iteration\": \"20\", \"goal\": \"accuracy_max\", \"run_name\": \"SparseNormalizer, XGBoostClassifier\", \"run_properties\": \"<azureml.automl.runtime.shared.model_wrappers.SparseNormalizer object at 0x7f5858325048\", \"primary_metric\": 0.70700615, \"best_metric\": 0.77218045}, {\"run_id\": \"AutoML_1023d585-090e-40a6-a2b7-437640d0b967_21\", \"run_number\": 26, \"metric\": null, \"status\": \"Completed\", \"run_type\": \"azureml.scriptrun\", \"training_percent\": \"100\", \"start_time\": \"2021-02-12T04:33:15.124551Z\", \"end_time\": \"2021-02-12T04:34:12.968967Z\", \"created_time\": \"2021-02-12T04:33:03.747496Z\", \"created_time_dt\": \"2021-02-12T04:33:03.747496Z\", \"duration\": \"0:01:09\", \"iteration\": \"21\", \"goal\": \"accuracy_max\", \"run_name\": \"StandardScalerWrapper, LightGBM\", \"run_properties\": \"<azureml.automl.runtime.shared.model_wrappers.StandardScalerWrapper object at 0x7f9ec19ff2e8\", \"primary_metric\": 0.75914217, \"best_metric\": 0.77218045}, {\"run_id\": \"AutoML_1023d585-090e-40a6-a2b7-437640d0b967_22\", \"run_number\": 27, \"metric\": null, \"status\": \"Completed\", \"run_type\": \"azureml.scriptrun\", \"training_percent\": \"100\", \"start_time\": \"2021-02-12T04:33:22.781616Z\", \"end_time\": \"2021-02-12T04:34:15.513315Z\", \"created_time\": \"2021-02-12T04:33:08.121784Z\", \"created_time_dt\": \"2021-02-12T04:33:08.121784Z\", \"duration\": \"0:01:07\", \"iteration\": \"22\", \"goal\": \"accuracy_max\", \"run_name\": \"StandardScalerWrapper, LightGBM\", \"run_properties\": \"<azureml.automl.runtime.shared.model_wrappers.StandardScalerWrapper object at 0x7f416a4f90f0\", \"primary_metric\": 0.74345523, \"best_metric\": 0.77218045}, {\"run_id\": \"AutoML_1023d585-090e-40a6-a2b7-437640d0b967_23\", \"run_number\": 28, \"metric\": null, \"status\": \"Completed\", \"run_type\": \"azureml.scriptrun\", \"training_percent\": \"100\", \"start_time\": \"2021-02-12T04:34:24.52859Z\", \"end_time\": \"2021-02-12T04:35:13.555947Z\", \"created_time\": \"2021-02-12T04:34:10.609296Z\", \"created_time_dt\": \"2021-02-12T04:34:10.609296Z\", \"duration\": \"0:01:02\", \"iteration\": \"23\", \"goal\": \"accuracy_max\", \"run_name\": \"SparseNormalizer, XGBoostClassifier\", \"run_properties\": \"<azureml.automl.runtime.shared.model_wrappers.SparseNormalizer object at 0x7fb3211eb860\", \"primary_metric\": 0.7082365, \"best_metric\": 0.77218045}, {\"run_id\": \"AutoML_1023d585-090e-40a6-a2b7-437640d0b967_24\", \"run_number\": 29, \"metric\": null, \"status\": \"Completed\", \"run_type\": \"azureml.scriptrun\", \"training_percent\": \"100\", \"start_time\": \"2021-02-12T04:34:29.697376Z\", \"end_time\": \"2021-02-12T04:35:27.710593Z\", \"created_time\": \"2021-02-12T04:34:16.293543Z\", \"created_time_dt\": \"2021-02-12T04:34:16.293543Z\", \"duration\": \"0:01:11\", \"iteration\": \"24\", \"goal\": \"accuracy_max\", \"run_name\": \"StandardScalerWrapper, LightGBM\", \"run_properties\": \"<azureml.automl.runtime.shared.model_wrappers.StandardScalerWrapper object at 0x7f78e50e3358\", \"primary_metric\": 0.76045796, \"best_metric\": 0.77218045}, {\"run_id\": \"AutoML_1023d585-090e-40a6-a2b7-437640d0b967_25\", \"run_number\": 30, \"metric\": null, \"status\": \"Completed\", \"run_type\": \"azureml.scriptrun\", \"training_percent\": \"100\", \"start_time\": \"2021-02-12T04:34:36.777104Z\", \"end_time\": \"2021-02-12T04:35:31.505636Z\", \"created_time\": \"2021-02-12T04:34:23.21473Z\", \"created_time_dt\": \"2021-02-12T04:34:23.21473Z\", \"duration\": \"0:01:08\", \"iteration\": \"25\", \"goal\": \"accuracy_max\", \"run_name\": \"MaxAbsScaler, LogisticRegression\", \"run_properties\": \"copy=True\", \"primary_metric\": 0.56495215, \"best_metric\": 0.77218045}, {\"run_id\": \"AutoML_1023d585-090e-40a6-a2b7-437640d0b967_26\", \"run_number\": 31, \"metric\": null, \"status\": \"Completed\", \"run_type\": \"azureml.scriptrun\", \"training_percent\": \"100\", \"start_time\": \"2021-02-12T04:35:26.715784Z\", \"end_time\": \"2021-02-12T04:36:35.720095Z\", \"created_time\": \"2021-02-12T04:35:15.827859Z\", \"created_time_dt\": \"2021-02-12T04:35:15.827859Z\", \"duration\": \"0:01:19\", \"iteration\": \"26\", \"goal\": \"accuracy_max\", \"run_name\": \"MaxAbsScaler, RandomForest\", \"run_properties\": \"copy=True\", \"primary_metric\": 0.75787765, \"best_metric\": 0.77218045}, {\"run_id\": \"AutoML_1023d585-090e-40a6-a2b7-437640d0b967_27\", \"run_number\": 32, \"metric\": null, \"status\": \"Completed\", \"run_type\": \"azureml.scriptrun\", \"training_percent\": \"100\", \"start_time\": \"2021-02-12T04:35:41.790163Z\", \"end_time\": \"2021-02-12T04:36:38.341743Z\", \"created_time\": \"2021-02-12T04:35:30.196768Z\", \"created_time_dt\": \"2021-02-12T04:35:30.196768Z\", \"duration\": \"0:01:08\", \"iteration\": \"27\", \"goal\": \"accuracy_max\", \"run_name\": \"MaxAbsScaler, LightGBM\", \"run_properties\": \"copy=True\", \"primary_metric\": 0.76572112, \"best_metric\": 0.77218045}, {\"run_id\": \"AutoML_1023d585-090e-40a6-a2b7-437640d0b967_28\", \"run_number\": 33, \"metric\": null, \"status\": \"Completed\", \"run_type\": \"azureml.scriptrun\", \"training_percent\": \"100\", \"start_time\": \"2021-02-12T04:35:51.01318Z\", \"end_time\": \"2021-02-12T04:36:44.00231Z\", \"created_time\": \"2021-02-12T04:35:34.991844Z\", \"created_time_dt\": \"2021-02-12T04:35:34.991844Z\", \"duration\": \"0:01:09\", \"iteration\": \"28\", \"goal\": \"accuracy_max\", \"run_name\": \"StandardScalerWrapper, LightGBM\", \"run_properties\": \"<azureml.automl.runtime.shared.model_wrappers.StandardScalerWrapper object at 0x7f67b462ecc0\", \"primary_metric\": 0.74222488, \"best_metric\": 0.77218045}, {\"run_id\": \"AutoML_1023d585-090e-40a6-a2b7-437640d0b967_29\", \"run_number\": 34, \"metric\": null, \"status\": \"Completed\", \"run_type\": \"azureml.scriptrun\", \"training_percent\": \"100\", \"start_time\": \"2021-02-12T04:36:50.246624Z\", \"end_time\": \"2021-02-12T04:37:44.987088Z\", \"created_time\": \"2021-02-12T04:36:38.025549Z\", \"created_time_dt\": \"2021-02-12T04:36:38.025549Z\", \"duration\": \"0:01:06\", \"iteration\": \"29\", \"goal\": \"accuracy_max\", \"run_name\": \"MaxAbsScaler, LightGBM\", \"run_properties\": \"copy=True\", \"primary_metric\": 0.73176692, \"best_metric\": 0.77218045}, {\"run_id\": \"AutoML_1023d585-090e-40a6-a2b7-437640d0b967_30\", \"run_number\": 35, \"metric\": null, \"status\": \"Completed\", \"run_type\": \"azureml.scriptrun\", \"training_percent\": \"100\", \"start_time\": \"2021-02-12T04:36:53.652287Z\", \"end_time\": \"2021-02-12T04:37:55.037862Z\", \"created_time\": \"2021-02-12T04:36:43.259732Z\", \"created_time_dt\": \"2021-02-12T04:36:43.259732Z\", \"duration\": \"0:01:11\", \"iteration\": \"30\", \"goal\": \"accuracy_max\", \"run_name\": \"MaxAbsScaler, LogisticRegression\", \"run_properties\": \"copy=True\", \"primary_metric\": 0.65097403, \"best_metric\": 0.77218045}, {\"run_id\": \"AutoML_1023d585-090e-40a6-a2b7-437640d0b967_31\", \"run_number\": 36, \"metric\": null, \"status\": \"Completed\", \"run_type\": \"azureml.scriptrun\", \"training_percent\": \"100\", \"start_time\": \"2021-02-12T04:37:01.149847Z\", \"end_time\": \"2021-02-12T04:37:56.173939Z\", \"created_time\": \"2021-02-12T04:36:47.450401Z\", \"created_time_dt\": \"2021-02-12T04:36:47.450401Z\", \"duration\": \"0:01:08\", \"iteration\": \"31\", \"goal\": \"accuracy_max\", \"run_name\": \"MaxAbsScaler, ExtremeRandomTrees\", \"run_properties\": \"copy=True\", \"primary_metric\": 0.7474026, \"best_metric\": 0.77218045}, {\"run_id\": \"AutoML_1023d585-090e-40a6-a2b7-437640d0b967_32\", \"run_number\": 37, \"metric\": null, \"status\": \"Canceled\", \"run_type\": \"azureml.scriptrun\", \"training_percent\": \"100\", \"start_time\": \"2021-02-12T04:38:00.565928Z\", \"end_time\": \"2021-02-12T04:38:08.713099Z\", \"created_time\": \"2021-02-12T04:37:47.347257Z\", \"created_time_dt\": \"2021-02-12T04:37:47.347257Z\", \"duration\": \"0:00:21\", \"iteration\": \"32\", \"goal\": null, \"run_name\": \"Canceled\", \"run_properties\": null}, {\"run_id\": \"AutoML_1023d585-090e-40a6-a2b7-437640d0b967_33\", \"run_number\": 38, \"metric\": null, \"status\": \"Canceled\", \"run_type\": \"azureml.scriptrun\", \"training_percent\": \"100\", \"start_time\": \"2021-02-12T04:37:57.251727Z\", \"end_time\": \"2021-02-12T04:38:15.771607Z\", \"created_time\": \"2021-02-12T04:37:57.251727Z\", \"created_time_dt\": \"2021-02-12T04:37:57.251727Z\", \"duration\": \"0:00:18\", \"iteration\": \"33\", \"goal\": null, \"run_name\": \"Canceled\", \"run_properties\": null}, {\"run_id\": \"AutoML_1023d585-090e-40a6-a2b7-437640d0b967_35\", \"run_number\": 39, \"metric\": null, \"status\": \"Completed\", \"run_type\": \"azureml.scriptrun\", \"training_percent\": \"100\", \"start_time\": \"2021-02-12T04:38:30.599234Z\", \"end_time\": \"2021-02-12T04:40:34.320025Z\", \"created_time\": \"2021-02-12T04:38:17.88513Z\", \"created_time_dt\": \"2021-02-12T04:38:17.88513Z\", \"duration\": \"0:02:16\", \"iteration\": \"35\", \"goal\": \"accuracy_max\", \"run_name\": \"StackEnsemble\", \"run_properties\": \"base_learners=[('7',\\n                                        Pipeline(memory=None,\\n                                                 steps=[('maxabsscaler',\\n                                                         MaxAbsScaler(copy=True\", \"primary_metric\": 0.76307245, \"best_metric\": 0.78523582}, {\"run_id\": \"AutoML_1023d585-090e-40a6-a2b7-437640d0b967_34\", \"run_number\": 40, \"metric\": null, \"status\": \"Completed\", \"run_type\": \"azureml.scriptrun\", \"training_percent\": \"100\", \"start_time\": \"2021-02-12T04:38:29.336624Z\", \"end_time\": \"2021-02-12T04:40:15.432068Z\", \"created_time\": \"2021-02-12T04:38:17.90726Z\", \"created_time_dt\": \"2021-02-12T04:38:17.90726Z\", \"duration\": \"0:01:57\", \"iteration\": \"34\", \"goal\": \"accuracy_max\", \"run_name\": \"VotingEnsemble\", \"run_properties\": \"classification_labels=None,\\n                              estimators=[('7',\\n                                           Pipeline(memory=None,\\n                                                    steps=[('maxabsscaler',\\n                                                            MaxAbsScaler(copy=True\", \"primary_metric\": 0.78523582, \"best_metric\": 0.78523582}], \"children_metrics\": {\"categories\": [0], \"series\": {\"f1_score_macro\": [{\"categories\": [\"0\", \"1\", \"2\", \"3\", \"4\", \"5\", \"6\", \"7\", \"8\", \"9\", \"10\", \"11\", \"12\", \"13\", \"14\", \"15\", \"16\", \"17\", \"18\", \"19\", \"20\", \"21\", \"22\", \"23\", \"24\", \"25\", \"26\", \"27\", \"28\", \"29\", \"30\", \"31\", \"34\", \"35\"], \"mode\": \"markers\", \"name\": \"f1_score_macro\", \"stepped\": false, \"type\": \"scatter\", \"data\": [0.7060869524729553, 0.7386733613551352, 0.6948789327903324, 0.6686047838070324, 0.726815785294159, 0.7090166149135158, 0.65722672339472, 0.7276024863921442, 0.707096265775234, 0.6996011117357945, 0.5349582615701339, 0.6579442736216708, 0.6905343977101263, 0.7265394255111047, 0.7044064207650071, 0.7202786913524633, 0.7195740735295028, 0.7206275383173736, 0.6377264359814887, 0.6613225676402734, 0.6495981695117654, 0.7202827827385786, 0.6533467734836654, 0.6508378957214178, 0.7232970210608157, 0.3550137246634702, 0.7163848060769589, 0.7300802115735173, 0.6716070943999037, 0.6289200389290219, 0.3936285549782772, 0.6746172234212582, 0.7420279884588121, 0.7232957556957296]}, {\"categories\": [\"0\", \"1\", \"2\", \"3\", \"4\", \"5\", \"6\", \"7\", \"8\", \"9\", \"10\", \"11\", \"12\", \"13\", \"14\", \"15\", \"16\", \"17\", \"18\", \"19\", \"20\", \"21\", \"22\", \"23\", \"24\", \"25\", \"26\", \"27\", \"28\", \"29\", \"30\", \"31\", \"34\", \"35\"], \"mode\": \"lines\", \"name\": \"f1_score_macro_max\", \"stepped\": true, \"type\": \"scatter\", \"data\": [0.7060869524729553, 0.7386733613551352, 0.7386733613551352, 0.7386733613551352, 0.7386733613551352, 0.7386733613551352, 0.7386733613551352, 0.7386733613551352, 0.7386733613551352, 0.7386733613551352, 0.7386733613551352, 0.7386733613551352, 0.7386733613551352, 0.7386733613551352, 0.7386733613551352, 0.7386733613551352, 0.7386733613551352, 0.7386733613551352, 0.7386733613551352, 0.7386733613551352, 0.7386733613551352, 0.7386733613551352, 0.7386733613551352, 0.7386733613551352, 0.7386733613551352, 0.7386733613551352, 0.7386733613551352, 0.7386733613551352, 0.7386733613551352, 0.7386733613551352, 0.7386733613551352, 0.7386733613551352, 0.7420279884588121, 0.7420279884588121]}], \"average_precision_score_macro\": [{\"categories\": [\"0\", \"1\", \"2\", \"3\", \"4\", \"5\", \"6\", \"7\", \"8\", \"9\", \"10\", \"11\", \"12\", \"13\", \"14\", \"15\", \"16\", \"17\", \"18\", \"19\", \"20\", \"21\", \"22\", \"23\", \"24\", \"25\", \"26\", \"27\", \"28\", \"29\", \"30\", \"31\", \"34\", \"35\"], \"mode\": \"markers\", \"name\": \"average_precision_score_macro\", \"stepped\": false, \"type\": \"scatter\", \"data\": [0.7742813465855433, 0.817147214521911, 0.7977865873913588, 0.7865397872296216, 0.8089614923166124, 0.7903949808232086, 0.7558562702621184, 0.8041544105212524, 0.8108135886266785, 0.8124548157626297, 0.6537308408160547, 0.8073542285041144, 0.805408547894577, 0.8172705533029472, 0.8101165974664706, 0.7985092813736969, 0.7862792364379545, 0.811692498631103, 0.7261636995075994, 0.7181078991127148, 0.7483310885138981, 0.8153991338919179, 0.7907934884139376, 0.7121381053984035, 0.8148180424379825, 0.5, 0.8194232958506321, 0.8146774156292297, 0.7992266204082814, 0.8135450492391326, 0.7445418929024213, 0.8076441182099632, 0.825382588320809, 0.827061749571191]}, {\"categories\": [\"0\", \"1\", \"2\", \"3\", \"4\", \"5\", \"6\", \"7\", \"8\", \"9\", \"10\", \"11\", \"12\", \"13\", \"14\", \"15\", \"16\", \"17\", \"18\", \"19\", \"20\", \"21\", \"22\", \"23\", \"24\", \"25\", \"26\", \"27\", \"28\", \"29\", \"30\", \"31\", \"34\", \"35\"], \"mode\": \"lines\", \"name\": \"average_precision_score_macro_max\", \"stepped\": true, \"type\": \"scatter\", \"data\": [0.7742813465855433, 0.817147214521911, 0.817147214521911, 0.817147214521911, 0.817147214521911, 0.817147214521911, 0.817147214521911, 0.817147214521911, 0.817147214521911, 0.817147214521911, 0.817147214521911, 0.817147214521911, 0.817147214521911, 0.8172705533029472, 0.8172705533029472, 0.8172705533029472, 0.8172705533029472, 0.8172705533029472, 0.8172705533029472, 0.8172705533029472, 0.8172705533029472, 0.8172705533029472, 0.8172705533029472, 0.8172705533029472, 0.8172705533029472, 0.8172705533029472, 0.8194232958506321, 0.8194232958506321, 0.8194232958506321, 0.8194232958506321, 0.8194232958506321, 0.8194232958506321, 0.825382588320809, 0.827061749571191]}], \"recall_score_micro\": [{\"categories\": [\"0\", \"1\", \"2\", \"3\", \"4\", \"5\", \"6\", \"7\", \"8\", \"9\", \"10\", \"11\", \"12\", \"13\", \"14\", \"15\", \"16\", \"17\", \"18\", \"19\", \"20\", \"21\", \"22\", \"23\", \"24\", \"25\", \"26\", \"27\", \"28\", \"29\", \"30\", \"31\", \"34\", \"35\"], \"mode\": \"markers\", \"name\": \"recall_score_micro\", \"stepped\": false, \"type\": \"scatter\", \"data\": [0.7396103896103897, 0.7695659603554341, 0.751367053998633, 0.7356459330143541, 0.7448735475051266, 0.7265892002734108, 0.7109364319890636, 0.7721804511278197, 0.7578092959671908, 0.7447881066302119, 0.6562542720437458, 0.7395933014354067, 0.7513328776486672, 0.7630724538619276, 0.760440874914559, 0.7682843472317156, 0.7592617908407383, 0.7708988380041012, 0.700580997949419, 0.7096035543403965, 0.7070061517429939, 0.7591421736158579, 0.7434552289815447, 0.7082365003417636, 0.760457963089542, 0.5649521531100479, 0.7578776486671224, 0.7657211209842789, 0.7422248803827751, 0.7317669172932331, 0.650974025974026, 0.7474025974025974, 0.7852358168147642, 0.7630724538619276]}, {\"categories\": [\"0\", \"1\", \"2\", \"3\", \"4\", \"5\", \"6\", \"7\", \"8\", \"9\", \"10\", \"11\", \"12\", \"13\", \"14\", \"15\", \"16\", \"17\", \"18\", \"19\", \"20\", \"21\", \"22\", \"23\", \"24\", \"25\", \"26\", \"27\", \"28\", \"29\", \"30\", \"31\", \"34\", \"35\"], \"mode\": \"lines\", \"name\": \"recall_score_micro_max\", \"stepped\": true, \"type\": \"scatter\", \"data\": [0.7396103896103897, 0.7695659603554341, 0.7695659603554341, 0.7695659603554341, 0.7695659603554341, 0.7695659603554341, 0.7695659603554341, 0.7721804511278197, 0.7721804511278197, 0.7721804511278197, 0.7721804511278197, 0.7721804511278197, 0.7721804511278197, 0.7721804511278197, 0.7721804511278197, 0.7721804511278197, 0.7721804511278197, 0.7721804511278197, 0.7721804511278197, 0.7721804511278197, 0.7721804511278197, 0.7721804511278197, 0.7721804511278197, 0.7721804511278197, 0.7721804511278197, 0.7721804511278197, 0.7721804511278197, 0.7721804511278197, 0.7721804511278197, 0.7721804511278197, 0.7721804511278197, 0.7721804511278197, 0.7852358168147642, 0.7852358168147642]}], \"average_precision_score_micro\": [{\"categories\": [\"0\", \"1\", \"2\", \"3\", \"4\", \"5\", \"6\", \"7\", \"8\", \"9\", \"10\", \"11\", \"12\", \"13\", \"14\", \"15\", \"16\", \"17\", \"18\", \"19\", \"20\", \"21\", \"22\", \"23\", \"24\", \"25\", \"26\", \"27\", \"28\", \"29\", \"30\", \"31\", \"34\", \"35\"], \"mode\": \"markers\", \"name\": \"average_precision_score_micro\", \"stepped\": false, \"type\": \"scatter\", \"data\": [0.8229290538102472, 0.8549562655774119, 0.8383523261319574, 0.8257518859989148, 0.8405114714708347, 0.818718155421943, 0.7998516433589408, 0.839224296967029, 0.8464029047999156, 0.8482066361977261, 0.7228501322698062, 0.831798543230431, 0.8430913261156301, 0.8552379969015524, 0.8471894350025627, 0.8343320758577486, 0.8255049823440437, 0.8480211169312366, 0.7696770945809182, 0.7709383650104557, 0.7929909240077632, 0.85320330811268, 0.8228546445918831, 0.7638188040375529, 0.8538856294725743, 0.5583791714185731, 0.854618444291171, 0.8523048036933636, 0.8393733247418866, 0.8293919681378288, 0.7762516547529636, 0.8366298976344595, 0.8601221901937268, 0.8595371334227959]}, {\"categories\": [\"0\", \"1\", \"2\", \"3\", \"4\", \"5\", \"6\", \"7\", \"8\", \"9\", \"10\", \"11\", \"12\", \"13\", \"14\", \"15\", \"16\", \"17\", \"18\", \"19\", \"20\", \"21\", \"22\", \"23\", \"24\", \"25\", \"26\", \"27\", \"28\", \"29\", \"30\", \"31\", \"34\", \"35\"], \"mode\": \"lines\", \"name\": \"average_precision_score_micro_max\", \"stepped\": true, \"type\": \"scatter\", \"data\": [0.8229290538102472, 0.8549562655774119, 0.8549562655774119, 0.8549562655774119, 0.8549562655774119, 0.8549562655774119, 0.8549562655774119, 0.8549562655774119, 0.8549562655774119, 0.8549562655774119, 0.8549562655774119, 0.8549562655774119, 0.8549562655774119, 0.8552379969015524, 0.8552379969015524, 0.8552379969015524, 0.8552379969015524, 0.8552379969015524, 0.8552379969015524, 0.8552379969015524, 0.8552379969015524, 0.8552379969015524, 0.8552379969015524, 0.8552379969015524, 0.8552379969015524, 0.8552379969015524, 0.8552379969015524, 0.8552379969015524, 0.8552379969015524, 0.8552379969015524, 0.8552379969015524, 0.8552379969015524, 0.8601221901937268, 0.8601221901937268]}], \"precision_score_macro\": [{\"categories\": [\"0\", \"1\", \"2\", \"3\", \"4\", \"5\", \"6\", \"7\", \"8\", \"9\", \"10\", \"11\", \"12\", \"13\", \"14\", \"15\", \"16\", \"17\", \"18\", \"19\", \"20\", \"21\", \"22\", \"23\", \"24\", \"25\", \"26\", \"27\", \"28\", \"29\", \"30\", \"31\", \"34\", \"35\"], \"mode\": \"markers\", \"name\": \"precision_score_macro\", \"stepped\": false, \"type\": \"scatter\", \"data\": [0.7112261247846459, 0.7448891884111544, 0.733647375907903, 0.728921554699727, 0.7265585236494203, 0.7088973175603785, 0.6822831462516467, 0.7569724488445986, 0.7423688186642623, 0.7183967510523395, 0.6374795555128558, 0.7501813595408982, 0.7407253347179574, 0.7419839139094282, 0.7547577992904261, 0.7553979175287631, 0.7363977964118594, 0.7624695485588845, 0.6725698422173662, 0.6761592340840278, 0.6777766110214668, 0.7364847885083099, 0.7601903719353726, 0.6765650068693041, 0.7392653533767158, 0.28247607655502394, 0.7361741790864165, 0.7455732517042397, 0.7303025241665246, 0.7648499682482511, 0.325487012987013, 0.7525485168023185, 0.7734586462147706, 0.7488886411728568]}, {\"categories\": [\"0\", \"1\", \"2\", \"3\", \"4\", \"5\", \"6\", \"7\", \"8\", \"9\", \"10\", \"11\", \"12\", \"13\", \"14\", \"15\", \"16\", \"17\", \"18\", \"19\", \"20\", \"21\", \"22\", \"23\", \"24\", \"25\", \"26\", \"27\", \"28\", \"29\", \"30\", \"31\", \"34\", \"35\"], \"mode\": \"lines\", \"name\": \"precision_score_macro_max\", \"stepped\": true, \"type\": \"scatter\", \"data\": [0.7112261247846459, 0.7448891884111544, 0.7448891884111544, 0.7448891884111544, 0.7448891884111544, 0.7448891884111544, 0.7448891884111544, 0.7569724488445986, 0.7569724488445986, 0.7569724488445986, 0.7569724488445986, 0.7569724488445986, 0.7569724488445986, 0.7569724488445986, 0.7569724488445986, 0.7569724488445986, 0.7569724488445986, 0.7624695485588845, 0.7624695485588845, 0.7624695485588845, 0.7624695485588845, 0.7624695485588845, 0.7624695485588845, 0.7624695485588845, 0.7624695485588845, 0.7624695485588845, 0.7624695485588845, 0.7624695485588845, 0.7624695485588845, 0.7648499682482511, 0.7648499682482511, 0.7648499682482511, 0.7734586462147706, 0.7734586462147706]}], \"recall_score_weighted\": [{\"categories\": [\"0\", \"1\", \"2\", \"3\", \"4\", \"5\", \"6\", \"7\", \"8\", \"9\", \"10\", \"11\", \"12\", \"13\", \"14\", \"15\", \"16\", \"17\", \"18\", \"19\", \"20\", \"21\", \"22\", \"23\", \"24\", \"25\", \"26\", \"27\", \"28\", \"29\", \"30\", \"31\", \"34\", \"35\"], \"mode\": \"markers\", \"name\": \"recall_score_weighted\", \"stepped\": false, \"type\": \"scatter\", \"data\": [0.7396103896103897, 0.7695659603554341, 0.751367053998633, 0.7356459330143541, 0.7448735475051266, 0.7265892002734108, 0.7109364319890636, 0.7721804511278197, 0.7578092959671908, 0.7447881066302119, 0.6562542720437458, 0.7395933014354067, 0.7513328776486672, 0.7630724538619276, 0.760440874914559, 0.7682843472317156, 0.7592617908407383, 0.7708988380041012, 0.700580997949419, 0.7096035543403965, 0.7070061517429939, 0.7591421736158579, 0.7434552289815447, 0.7082365003417636, 0.760457963089542, 0.5649521531100479, 0.7578776486671224, 0.7657211209842789, 0.7422248803827751, 0.7317669172932331, 0.650974025974026, 0.7474025974025974, 0.7852358168147642, 0.7630724538619276]}, {\"categories\": [\"0\", \"1\", \"2\", \"3\", \"4\", \"5\", \"6\", \"7\", \"8\", \"9\", \"10\", \"11\", \"12\", \"13\", \"14\", \"15\", \"16\", \"17\", \"18\", \"19\", \"20\", \"21\", \"22\", \"23\", \"24\", \"25\", \"26\", \"27\", \"28\", \"29\", \"30\", \"31\", \"34\", \"35\"], \"mode\": \"lines\", \"name\": \"recall_score_weighted_max\", \"stepped\": true, \"type\": \"scatter\", \"data\": [0.7396103896103897, 0.7695659603554341, 0.7695659603554341, 0.7695659603554341, 0.7695659603554341, 0.7695659603554341, 0.7695659603554341, 0.7721804511278197, 0.7721804511278197, 0.7721804511278197, 0.7721804511278197, 0.7721804511278197, 0.7721804511278197, 0.7721804511278197, 0.7721804511278197, 0.7721804511278197, 0.7721804511278197, 0.7721804511278197, 0.7721804511278197, 0.7721804511278197, 0.7721804511278197, 0.7721804511278197, 0.7721804511278197, 0.7721804511278197, 0.7721804511278197, 0.7721804511278197, 0.7721804511278197, 0.7721804511278197, 0.7721804511278197, 0.7721804511278197, 0.7721804511278197, 0.7721804511278197, 0.7852358168147642, 0.7852358168147642]}], \"norm_macro_recall\": [{\"categories\": [\"0\", \"1\", \"2\", \"3\", \"4\", \"5\", \"6\", \"7\", \"8\", \"9\", \"10\", \"11\", \"12\", \"13\", \"14\", \"15\", \"16\", \"17\", \"18\", \"19\", \"20\", \"21\", \"22\", \"23\", \"24\", \"25\", \"26\", \"27\", \"28\", \"29\", \"30\", \"31\", \"34\", \"35\"], \"mode\": \"markers\", \"name\": \"norm_macro_recall\", \"stepped\": false, \"type\": \"scatter\", \"data\": [0.41071764429576385, 0.4736393046669162, 0.3729474114895083, 0.32573174036009145, 0.4813364814553703, 0.4495873131931981, 0.30562729051166637, 0.436748088580632, 0.39791770600032217, 0.388464382075915, 0.14910136050369333, 0.3067632063948381, 0.36125456723755744, 0.44409214267080516, 0.38866842807189306, 0.42173876110221453, 0.4264340200785147, 0.422137605804079, 0.2732707174280499, 0.3147003403812693, 0.29679146097525966, 0.4292053828670448, 0.3105094379732261, 0.29337772270534224, 0.4362966575208489, 0.0, 0.41925573667058663, 0.45106390252333517, 0.32898459267320046, 0.26362513316896263, 0.0, 0.3346309480232065, 0.46168296462579034, 0.4322845088187092]}, {\"categories\": [\"0\", \"1\", \"2\", \"3\", \"4\", \"5\", \"6\", \"7\", \"8\", \"9\", \"10\", \"11\", \"12\", \"13\", \"14\", \"15\", \"16\", \"17\", \"18\", \"19\", \"20\", \"21\", \"22\", \"23\", \"24\", \"25\", \"26\", \"27\", \"28\", \"29\", \"30\", \"31\", \"34\", \"35\"], \"mode\": \"lines\", \"name\": \"norm_macro_recall_max\", \"stepped\": true, \"type\": \"scatter\", \"data\": [0.41071764429576385, 0.4736393046669162, 0.4736393046669162, 0.4736393046669162, 0.4813364814553703, 0.4813364814553703, 0.4813364814553703, 0.4813364814553703, 0.4813364814553703, 0.4813364814553703, 0.4813364814553703, 0.4813364814553703, 0.4813364814553703, 0.4813364814553703, 0.4813364814553703, 0.4813364814553703, 0.4813364814553703, 0.4813364814553703, 0.4813364814553703, 0.4813364814553703, 0.4813364814553703, 0.4813364814553703, 0.4813364814553703, 0.4813364814553703, 0.4813364814553703, 0.4813364814553703, 0.4813364814553703, 0.4813364814553703, 0.4813364814553703, 0.4813364814553703, 0.4813364814553703, 0.4813364814553703, 0.4813364814553703, 0.4813364814553703]}], \"recall_score_macro\": [{\"categories\": [\"0\", \"1\", \"2\", \"3\", \"4\", \"5\", \"6\", \"7\", \"8\", \"9\", \"10\", \"11\", \"12\", \"13\", \"14\", \"15\", \"16\", \"17\", \"18\", \"19\", \"20\", \"21\", \"22\", \"23\", \"24\", \"25\", \"26\", \"27\", \"28\", \"29\", \"30\", \"31\", \"34\", \"35\"], \"mode\": \"markers\", \"name\": \"recall_score_macro\", \"stepped\": false, \"type\": \"scatter\", \"data\": [0.7053588221478819, 0.7368196523334581, 0.6864737057447542, 0.6628658701800457, 0.7406682407276851, 0.7247936565965991, 0.6528136452558332, 0.7183740442903159, 0.6989588530001611, 0.6942321910379575, 0.5729027139124356, 0.653381603197419, 0.6806272836187788, 0.7220460713354026, 0.6943342140359465, 0.7108693805511073, 0.7132170100392574, 0.7110688029020394, 0.636635358714025, 0.6573501701906346, 0.6483957304876298, 0.7146026914335224, 0.655254718986613, 0.6466888613526711, 0.7181483287604246, 0.5, 0.7096278683352932, 0.7255319512616676, 0.6644922963366002, 0.6318125665844814, 0.5, 0.6673154740116032, 0.7308414823128951, 0.7161422544093548]}, {\"categories\": [\"0\", \"1\", \"2\", \"3\", \"4\", \"5\", \"6\", \"7\", \"8\", \"9\", \"10\", \"11\", \"12\", \"13\", \"14\", \"15\", \"16\", \"17\", \"18\", \"19\", \"20\", \"21\", \"22\", \"23\", \"24\", \"25\", \"26\", \"27\", \"28\", \"29\", \"30\", \"31\", \"34\", \"35\"], \"mode\": \"lines\", \"name\": \"recall_score_macro_max\", \"stepped\": true, \"type\": \"scatter\", \"data\": [0.7053588221478819, 0.7368196523334581, 0.7368196523334581, 0.7368196523334581, 0.7406682407276851, 0.7406682407276851, 0.7406682407276851, 0.7406682407276851, 0.7406682407276851, 0.7406682407276851, 0.7406682407276851, 0.7406682407276851, 0.7406682407276851, 0.7406682407276851, 0.7406682407276851, 0.7406682407276851, 0.7406682407276851, 0.7406682407276851, 0.7406682407276851, 0.7406682407276851, 0.7406682407276851, 0.7406682407276851, 0.7406682407276851, 0.7406682407276851, 0.7406682407276851, 0.7406682407276851, 0.7406682407276851, 0.7406682407276851, 0.7406682407276851, 0.7406682407276851, 0.7406682407276851, 0.7406682407276851, 0.7406682407276851, 0.7406682407276851]}], \"weighted_accuracy\": [{\"categories\": [\"0\", \"1\", \"2\", \"3\", \"4\", \"5\", \"6\", \"7\", \"8\", \"9\", \"10\", \"11\", \"12\", \"13\", \"14\", \"15\", \"16\", \"17\", \"18\", \"19\", \"20\", \"21\", \"22\", \"23\", \"24\", \"25\", \"26\", \"27\", \"28\", \"29\", \"30\", \"31\", \"34\", \"35\"], \"mode\": \"markers\", \"name\": \"weighted_accuracy\", \"stepped\": false, \"type\": \"scatter\", \"data\": [0.7658219048734536, 0.7945054420815822, 0.8011335356790887, 0.7917071293711474, 0.7482932327386587, 0.727576745912095, 0.7561378396592249, 0.8134343281219086, 0.8025268797074299, 0.7831857151920067, 0.7246129410924865, 0.8064928743936021, 0.8052930951671726, 0.7942747534762178, 0.8113882191560735, 0.8125111275680157, 0.7944578511756976, 0.8165529525624298, 0.7511203658789916, 0.7493091745849279, 0.7534895921813489, 0.7927457000129634, 0.8104406255061012, 0.7563136926144495, 0.7920140520720099, 0.6100709038431373, 0.793892362928323, 0.7960301030724048, 0.8012177710914766, 0.8094829138093222, 0.7681437801712667, 0.8094217320942544, 0.8260233098515256, 0.7991251197279343]}, {\"categories\": [\"0\", \"1\", \"2\", \"3\", \"4\", \"5\", \"6\", \"7\", \"8\", \"9\", \"10\", \"11\", \"12\", \"13\", \"14\", \"15\", \"16\", \"17\", \"18\", \"19\", \"20\", \"21\", \"22\", \"23\", \"24\", \"25\", \"26\", \"27\", \"28\", \"29\", \"30\", \"31\", \"34\", \"35\"], \"mode\": \"lines\", \"name\": \"weighted_accuracy_max\", \"stepped\": true, \"type\": \"scatter\", \"data\": [0.7658219048734536, 0.7945054420815822, 0.8011335356790887, 0.8011335356790887, 0.8011335356790887, 0.8011335356790887, 0.8011335356790887, 0.8134343281219086, 0.8134343281219086, 0.8134343281219086, 0.8134343281219086, 0.8134343281219086, 0.8134343281219086, 0.8134343281219086, 0.8134343281219086, 0.8134343281219086, 0.8134343281219086, 0.8165529525624298, 0.8165529525624298, 0.8165529525624298, 0.8165529525624298, 0.8165529525624298, 0.8165529525624298, 0.8165529525624298, 0.8165529525624298, 0.8165529525624298, 0.8165529525624298, 0.8165529525624298, 0.8165529525624298, 0.8165529525624298, 0.8165529525624298, 0.8165529525624298, 0.8260233098515256, 0.8260233098515256]}], \"AUC_micro\": [{\"categories\": [\"0\", \"1\", \"2\", \"3\", \"4\", \"5\", \"6\", \"7\", \"8\", \"9\", \"10\", \"11\", \"12\", \"13\", \"14\", \"15\", \"16\", \"17\", \"18\", \"19\", \"20\", \"21\", \"22\", \"23\", \"24\", \"25\", \"26\", \"27\", \"28\", \"29\", \"30\", \"31\", \"34\", \"35\"], \"mode\": \"markers\", \"name\": \"AUC_micro\", \"stepped\": false, \"type\": \"scatter\", \"data\": [0.8242456616125537, 0.8556880349836874, 0.8370779758069753, 0.8224634280350726, 0.8366301791887286, 0.8117401777450525, 0.8002705725040868, 0.8435108268714412, 0.8452476039178292, 0.8480087516451602, 0.7391490818872819, 0.8250967969775305, 0.8374680195330806, 0.8531851254386511, 0.8450229814345096, 0.8395861297748193, 0.8277130719048913, 0.8468837411913552, 0.777790435901473, 0.7759502275074999, 0.7928406036529215, 0.8509013720297762, 0.8165146728204343, 0.76909080864094, 0.8527967549053459, 0.5649521531100479, 0.853699043833096, 0.8530161271257433, 0.8332234214053745, 0.8214103502713785, 0.7661071554717902, 0.8300427402938466, 0.8585508269835715, 0.8560708194474878]}, {\"categories\": [\"0\", \"1\", \"2\", \"3\", \"4\", \"5\", \"6\", \"7\", \"8\", \"9\", \"10\", \"11\", \"12\", \"13\", \"14\", \"15\", \"16\", \"17\", \"18\", \"19\", \"20\", \"21\", \"22\", \"23\", \"24\", \"25\", \"26\", \"27\", \"28\", \"29\", \"30\", \"31\", \"34\", \"35\"], \"mode\": \"lines\", \"name\": \"AUC_micro_max\", \"stepped\": true, \"type\": \"scatter\", \"data\": [0.8242456616125537, 0.8556880349836874, 0.8556880349836874, 0.8556880349836874, 0.8556880349836874, 0.8556880349836874, 0.8556880349836874, 0.8556880349836874, 0.8556880349836874, 0.8556880349836874, 0.8556880349836874, 0.8556880349836874, 0.8556880349836874, 0.8556880349836874, 0.8556880349836874, 0.8556880349836874, 0.8556880349836874, 0.8556880349836874, 0.8556880349836874, 0.8556880349836874, 0.8556880349836874, 0.8556880349836874, 0.8556880349836874, 0.8556880349836874, 0.8556880349836874, 0.8556880349836874, 0.8556880349836874, 0.8556880349836874, 0.8556880349836874, 0.8556880349836874, 0.8556880349836874, 0.8556880349836874, 0.8585508269835715, 0.8585508269835715]}], \"precision_score_micro\": [{\"categories\": [\"0\", \"1\", \"2\", \"3\", \"4\", \"5\", \"6\", \"7\", \"8\", \"9\", \"10\", \"11\", \"12\", \"13\", \"14\", \"15\", \"16\", \"17\", \"18\", \"19\", \"20\", \"21\", \"22\", \"23\", \"24\", \"25\", \"26\", \"27\", \"28\", \"29\", \"30\", \"31\", \"34\", \"35\"], \"mode\": \"markers\", \"name\": \"precision_score_micro\", \"stepped\": false, \"type\": \"scatter\", \"data\": [0.7396103896103897, 0.7695659603554341, 0.751367053998633, 0.7356459330143541, 0.7448735475051266, 0.7265892002734108, 0.7109364319890636, 0.7721804511278197, 0.7578092959671908, 0.7447881066302119, 0.6562542720437458, 0.7395933014354067, 0.7513328776486672, 0.7630724538619276, 0.760440874914559, 0.7682843472317156, 0.7592617908407383, 0.7708988380041012, 0.700580997949419, 0.7096035543403965, 0.7070061517429939, 0.7591421736158579, 0.7434552289815447, 0.7082365003417636, 0.760457963089542, 0.5649521531100479, 0.7578776486671224, 0.7657211209842789, 0.7422248803827751, 0.7317669172932331, 0.650974025974026, 0.7474025974025974, 0.7852358168147642, 0.7630724538619276]}, {\"categories\": [\"0\", \"1\", \"2\", \"3\", \"4\", \"5\", \"6\", \"7\", \"8\", \"9\", \"10\", \"11\", \"12\", \"13\", \"14\", \"15\", \"16\", \"17\", \"18\", \"19\", \"20\", \"21\", \"22\", \"23\", \"24\", \"25\", \"26\", \"27\", \"28\", \"29\", \"30\", \"31\", \"34\", \"35\"], \"mode\": \"lines\", \"name\": \"precision_score_micro_max\", \"stepped\": true, \"type\": \"scatter\", \"data\": [0.7396103896103897, 0.7695659603554341, 0.7695659603554341, 0.7695659603554341, 0.7695659603554341, 0.7695659603554341, 0.7695659603554341, 0.7721804511278197, 0.7721804511278197, 0.7721804511278197, 0.7721804511278197, 0.7721804511278197, 0.7721804511278197, 0.7721804511278197, 0.7721804511278197, 0.7721804511278197, 0.7721804511278197, 0.7721804511278197, 0.7721804511278197, 0.7721804511278197, 0.7721804511278197, 0.7721804511278197, 0.7721804511278197, 0.7721804511278197, 0.7721804511278197, 0.7721804511278197, 0.7721804511278197, 0.7721804511278197, 0.7721804511278197, 0.7721804511278197, 0.7721804511278197, 0.7721804511278197, 0.7852358168147642, 0.7852358168147642]}], \"average_precision_score_weighted\": [{\"categories\": [\"0\", \"1\", \"2\", \"3\", \"4\", \"5\", \"6\", \"7\", \"8\", \"9\", \"10\", \"11\", \"12\", \"13\", \"14\", \"15\", \"16\", \"17\", \"18\", \"19\", \"20\", \"21\", \"22\", \"23\", \"24\", \"25\", \"26\", \"27\", \"28\", \"29\", \"30\", \"31\", \"34\", \"35\"], \"mode\": \"markers\", \"name\": \"average_precision_score_weighted\", \"stepped\": false, \"type\": \"scatter\", \"data\": [0.8088900198552287, 0.8456601055549087, 0.8296027798827377, 0.8211514978988911, 0.8413362086062662, 0.8237309709809086, 0.7884401733913479, 0.8323907102964482, 0.839759000435321, 0.8411850408739786, 0.6969769479553236, 0.8397363871592155, 0.8383902945556188, 0.846667199307354, 0.8410903806480243, 0.827392059610486, 0.8163605947309943, 0.8423027635635657, 0.7580715937929986, 0.7543850135710837, 0.7804909508147334, 0.8442483062271862, 0.8267722444362452, 0.7479784300870874, 0.8442956423841167, 0.5518061897270984, 0.8473582831741698, 0.8432798093213973, 0.8341812575040143, 0.8446526911922133, 0.7834658625002623, 0.8402413381353175, 0.8535102896479551, 0.855008059708136]}, {\"categories\": [\"0\", \"1\", \"2\", \"3\", \"4\", \"5\", \"6\", \"7\", \"8\", \"9\", \"10\", \"11\", \"12\", \"13\", \"14\", \"15\", \"16\", \"17\", \"18\", \"19\", \"20\", \"21\", \"22\", \"23\", \"24\", \"25\", \"26\", \"27\", \"28\", \"29\", \"30\", \"31\", \"34\", \"35\"], \"mode\": \"lines\", \"name\": \"average_precision_score_weighted_max\", \"stepped\": true, \"type\": \"scatter\", \"data\": [0.8088900198552287, 0.8456601055549087, 0.8456601055549087, 0.8456601055549087, 0.8456601055549087, 0.8456601055549087, 0.8456601055549087, 0.8456601055549087, 0.8456601055549087, 0.8456601055549087, 0.8456601055549087, 0.8456601055549087, 0.8456601055549087, 0.846667199307354, 0.846667199307354, 0.846667199307354, 0.846667199307354, 0.846667199307354, 0.846667199307354, 0.846667199307354, 0.846667199307354, 0.846667199307354, 0.846667199307354, 0.846667199307354, 0.846667199307354, 0.846667199307354, 0.8473582831741698, 0.8473582831741698, 0.8473582831741698, 0.8473582831741698, 0.8473582831741698, 0.8473582831741698, 0.8535102896479551, 0.855008059708136]}], \"AUC_macro\": [{\"categories\": [\"0\", \"1\", \"2\", \"3\", \"4\", \"5\", \"6\", \"7\", \"8\", \"9\", \"10\", \"11\", \"12\", \"13\", \"14\", \"15\", \"16\", \"17\", \"18\", \"19\", \"20\", \"21\", \"22\", \"23\", \"24\", \"25\", \"26\", \"27\", \"28\", \"29\", \"30\", \"31\", \"34\", \"35\"], \"mode\": \"markers\", \"name\": \"AUC_macro\", \"stepped\": false, \"type\": \"scatter\", \"data\": [0.7981013916226355, 0.8366210317228242, 0.8169358637144979, 0.810267595671782, 0.8302080390437985, 0.8033837187808661, 0.7672168327682274, 0.8172416815528724, 0.8276878656884072, 0.8287052445482516, 0.6899760736950882, 0.8242879854698039, 0.8263983791240428, 0.8358045289003183, 0.8308679220285345, 0.8136852977394039, 0.7947765034543792, 0.8309582369150172, 0.7363807356727888, 0.7311334050506705, 0.7602996128027792, 0.8319148488061237, 0.8115470731124781, 0.7258583765013835, 0.8347048811868373, 0.5, 0.834950686779177, 0.8335134411851127, 0.8218591888815527, 0.831546658624695, 0.7550202589776036, 0.824610871439772, 0.8414406986763957, 0.8422574920848602]}, {\"categories\": [\"0\", \"1\", \"2\", \"3\", \"4\", \"5\", \"6\", \"7\", \"8\", \"9\", \"10\", \"11\", \"12\", \"13\", \"14\", \"15\", \"16\", \"17\", \"18\", \"19\", \"20\", \"21\", \"22\", \"23\", \"24\", \"25\", \"26\", \"27\", \"28\", \"29\", \"30\", \"31\", \"34\", \"35\"], \"mode\": \"lines\", \"name\": \"AUC_macro_max\", \"stepped\": true, \"type\": \"scatter\", \"data\": [0.7981013916226355, 0.8366210317228242, 0.8366210317228242, 0.8366210317228242, 0.8366210317228242, 0.8366210317228242, 0.8366210317228242, 0.8366210317228242, 0.8366210317228242, 0.8366210317228242, 0.8366210317228242, 0.8366210317228242, 0.8366210317228242, 0.8366210317228242, 0.8366210317228242, 0.8366210317228242, 0.8366210317228242, 0.8366210317228242, 0.8366210317228242, 0.8366210317228242, 0.8366210317228242, 0.8366210317228242, 0.8366210317228242, 0.8366210317228242, 0.8366210317228242, 0.8366210317228242, 0.8366210317228242, 0.8366210317228242, 0.8366210317228242, 0.8366210317228242, 0.8366210317228242, 0.8366210317228242, 0.8414406986763957, 0.8422574920848602]}], \"accuracy\": [{\"categories\": [\"0\", \"1\", \"2\", \"3\", \"4\", \"5\", \"6\", \"7\", \"8\", \"9\", \"10\", \"11\", \"12\", \"13\", \"14\", \"15\", \"16\", \"17\", \"18\", \"19\", \"20\", \"21\", \"22\", \"23\", \"24\", \"25\", \"26\", \"27\", \"28\", \"29\", \"30\", \"31\", \"34\", \"35\"], \"mode\": \"markers\", \"name\": \"accuracy\", \"stepped\": false, \"type\": \"scatter\", \"data\": [0.7396103896103897, 0.7695659603554341, 0.751367053998633, 0.7356459330143541, 0.7448735475051266, 0.7265892002734108, 0.7109364319890636, 0.7721804511278197, 0.7578092959671908, 0.7447881066302119, 0.6562542720437458, 0.7395933014354067, 0.7513328776486672, 0.7630724538619276, 0.760440874914559, 0.7682843472317156, 0.7592617908407383, 0.7708988380041012, 0.700580997949419, 0.7096035543403965, 0.7070061517429939, 0.7591421736158579, 0.7434552289815447, 0.7082365003417636, 0.760457963089542, 0.5649521531100479, 0.7578776486671224, 0.7657211209842789, 0.7422248803827751, 0.7317669172932331, 0.650974025974026, 0.7474025974025974, 0.7852358168147642, 0.7630724538619276]}, {\"categories\": [\"0\", \"1\", \"2\", \"3\", \"4\", \"5\", \"6\", \"7\", \"8\", \"9\", \"10\", \"11\", \"12\", \"13\", \"14\", \"15\", \"16\", \"17\", \"18\", \"19\", \"20\", \"21\", \"22\", \"23\", \"24\", \"25\", \"26\", \"27\", \"28\", \"29\", \"30\", \"31\", \"34\", \"35\"], \"mode\": \"lines\", \"name\": \"accuracy_max\", \"stepped\": true, \"type\": \"scatter\", \"data\": [0.7396103896103897, 0.7695659603554341, 0.7695659603554341, 0.7695659603554341, 0.7695659603554341, 0.7695659603554341, 0.7695659603554341, 0.7721804511278197, 0.7721804511278197, 0.7721804511278197, 0.7721804511278197, 0.7721804511278197, 0.7721804511278197, 0.7721804511278197, 0.7721804511278197, 0.7721804511278197, 0.7721804511278197, 0.7721804511278197, 0.7721804511278197, 0.7721804511278197, 0.7721804511278197, 0.7721804511278197, 0.7721804511278197, 0.7721804511278197, 0.7721804511278197, 0.7721804511278197, 0.7721804511278197, 0.7721804511278197, 0.7721804511278197, 0.7721804511278197, 0.7721804511278197, 0.7721804511278197, 0.7852358168147642, 0.7852358168147642]}], \"log_loss\": [{\"categories\": [\"0\", \"1\", \"2\", \"3\", \"4\", \"5\", \"6\", \"7\", \"8\", \"9\", \"10\", \"11\", \"12\", \"13\", \"14\", \"15\", \"16\", \"17\", \"18\", \"19\", \"20\", \"21\", \"22\", \"23\", \"24\", \"25\", \"26\", \"27\", \"28\", \"29\", \"30\", \"31\", \"34\", \"35\"], \"mode\": \"markers\", \"name\": \"log_loss\", \"stepped\": false, \"type\": \"scatter\", \"data\": [0.6480770950597856, 0.4752990014529053, 0.5030524506076237, 0.5245704918113565, 0.5086390740304567, 0.5610692361983233, 0.5428653538655805, 0.49208317735151336, 0.49523264560932223, 0.48273915805116785, 0.612041067826675, 0.5306312190556352, 0.5160515497272203, 0.47436733638110856, 0.5074172138675456, 0.49927005978096634, 0.5106861599715627, 0.5037053818824139, 0.6085094819573147, 0.600347009457885, 0.5469791330898274, 0.4824361589586463, 0.5427951710317549, 0.5827388703853965, 0.4744944810939403, 0.6793843408244721, 0.47458016460584684, 0.4772837184511805, 0.5197850255718997, 0.5414231727390466, 0.6482135419589918, 0.5216103905992744, 0.4849658694154616, 0.4807069844314474]}, {\"categories\": [\"0\", \"1\", \"2\", \"3\", \"4\", \"5\", \"6\", \"7\", \"8\", \"9\", \"10\", \"11\", \"12\", \"13\", \"14\", \"15\", \"16\", \"17\", \"18\", \"19\", \"20\", \"21\", \"22\", \"23\", \"24\", \"25\", \"26\", \"27\", \"28\", \"29\", \"30\", \"31\", \"34\", \"35\"], \"mode\": \"lines\", \"name\": \"log_loss_min\", \"stepped\": true, \"type\": \"scatter\", \"data\": [0.6480770950597856, 0.4752990014529053, 0.4752990014529053, 0.4752990014529053, 0.4752990014529053, 0.4752990014529053, 0.4752990014529053, 0.4752990014529053, 0.4752990014529053, 0.4752990014529053, 0.4752990014529053, 0.4752990014529053, 0.4752990014529053, 0.47436733638110856, 0.47436733638110856, 0.47436733638110856, 0.47436733638110856, 0.47436733638110856, 0.47436733638110856, 0.47436733638110856, 0.47436733638110856, 0.47436733638110856, 0.47436733638110856, 0.47436733638110856, 0.47436733638110856, 0.47436733638110856, 0.47436733638110856, 0.47436733638110856, 0.47436733638110856, 0.47436733638110856, 0.47436733638110856, 0.47436733638110856, 0.47436733638110856, 0.47436733638110856]}], \"matthews_correlation\": [{\"categories\": [\"0\", \"1\", \"2\", \"3\", \"4\", \"5\", \"6\", \"7\", \"8\", \"9\", \"10\", \"11\", \"12\", \"13\", \"14\", \"15\", \"16\", \"17\", \"18\", \"19\", \"20\", \"21\", \"22\", \"23\", \"24\", \"25\", \"26\", \"27\", \"28\", \"29\", \"30\", \"31\", \"34\", \"35\"], \"mode\": \"markers\", \"name\": \"matthews_correlation\", \"stepped\": false, \"type\": \"scatter\", \"data\": [0.4163237794803841, 0.4814237328189323, 0.41712662186472277, 0.3843807686140194, 0.46651834919901997, 0.4330441597099196, 0.33336166906048137, 0.47337297750095875, 0.43839684538205115, 0.4116047319206489, 0.183266574241319, 0.3908922999246201, 0.4166773674086455, 0.4631793176059439, 0.4445055326426492, 0.4637174523116213, 0.44880091980348286, 0.4698686723908879, 0.3060326841794024, 0.33263053148039334, 0.32381034341147374, 0.45020693039248394, 0.3980096432797947, 0.32169097709973293, 0.45643829536926017, 0.0, 0.444613019215064, 0.47015955125436826, 0.387752230929327, 0.3728009335754777, 0.0, 0.4104803123688394, 0.5020808127477178, 0.46300559633002614]}, {\"categories\": [\"0\", \"1\", \"2\", \"3\", \"4\", \"5\", \"6\", \"7\", \"8\", \"9\", \"10\", \"11\", \"12\", \"13\", \"14\", \"15\", \"16\", \"17\", \"18\", \"19\", \"20\", \"21\", \"22\", \"23\", \"24\", \"25\", \"26\", \"27\", \"28\", \"29\", \"30\", \"31\", \"34\", \"35\"], \"mode\": \"lines\", \"name\": \"matthews_correlation_max\", \"stepped\": true, \"type\": \"scatter\", \"data\": [0.4163237794803841, 0.4814237328189323, 0.4814237328189323, 0.4814237328189323, 0.4814237328189323, 0.4814237328189323, 0.4814237328189323, 0.4814237328189323, 0.4814237328189323, 0.4814237328189323, 0.4814237328189323, 0.4814237328189323, 0.4814237328189323, 0.4814237328189323, 0.4814237328189323, 0.4814237328189323, 0.4814237328189323, 0.4814237328189323, 0.4814237328189323, 0.4814237328189323, 0.4814237328189323, 0.4814237328189323, 0.4814237328189323, 0.4814237328189323, 0.4814237328189323, 0.4814237328189323, 0.4814237328189323, 0.4814237328189323, 0.4814237328189323, 0.4814237328189323, 0.4814237328189323, 0.4814237328189323, 0.5020808127477178, 0.5020808127477178]}], \"f1_score_micro\": [{\"categories\": [\"0\", \"1\", \"2\", \"3\", \"4\", \"5\", \"6\", \"7\", \"8\", \"9\", \"10\", \"11\", \"12\", \"13\", \"14\", \"15\", \"16\", \"17\", \"18\", \"19\", \"20\", \"21\", \"22\", \"23\", \"24\", \"25\", \"26\", \"27\", \"28\", \"29\", \"30\", \"31\", \"34\", \"35\"], \"mode\": \"markers\", \"name\": \"f1_score_micro\", \"stepped\": false, \"type\": \"scatter\", \"data\": [0.7396103896103897, 0.7695659603554341, 0.751367053998633, 0.7356459330143541, 0.7448735475051265, 0.7265892002734108, 0.7109364319890636, 0.7721804511278195, 0.7578092959671908, 0.7447881066302119, 0.6562542720437458, 0.7395933014354067, 0.7513328776486672, 0.7630724538619275, 0.760440874914559, 0.7682843472317156, 0.7592617908407382, 0.7708988380041011, 0.700580997949419, 0.7096035543403965, 0.7070061517429939, 0.7591421736158579, 0.7434552289815447, 0.7082365003417634, 0.760457963089542, 0.5649521531100479, 0.7578776486671224, 0.7657211209842789, 0.742224880382775, 0.7317669172932331, 0.650974025974026, 0.7474025974025974, 0.7852358168147642, 0.7630724538619276]}, {\"categories\": [\"0\", \"1\", \"2\", \"3\", \"4\", \"5\", \"6\", \"7\", \"8\", \"9\", \"10\", \"11\", \"12\", \"13\", \"14\", \"15\", \"16\", \"17\", \"18\", \"19\", \"20\", \"21\", \"22\", \"23\", \"24\", \"25\", \"26\", \"27\", \"28\", \"29\", \"30\", \"31\", \"34\", \"35\"], \"mode\": \"lines\", \"name\": \"f1_score_micro_max\", \"stepped\": true, \"type\": \"scatter\", \"data\": [0.7396103896103897, 0.7695659603554341, 0.7695659603554341, 0.7695659603554341, 0.7695659603554341, 0.7695659603554341, 0.7695659603554341, 0.7721804511278195, 0.7721804511278195, 0.7721804511278195, 0.7721804511278195, 0.7721804511278195, 0.7721804511278195, 0.7721804511278195, 0.7721804511278195, 0.7721804511278195, 0.7721804511278195, 0.7721804511278195, 0.7721804511278195, 0.7721804511278195, 0.7721804511278195, 0.7721804511278195, 0.7721804511278195, 0.7721804511278195, 0.7721804511278195, 0.7721804511278195, 0.7721804511278195, 0.7721804511278195, 0.7721804511278195, 0.7721804511278195, 0.7721804511278195, 0.7721804511278195, 0.7852358168147642, 0.7852358168147642]}], \"f1_score_weighted\": [{\"categories\": [\"0\", \"1\", \"2\", \"3\", \"4\", \"5\", \"6\", \"7\", \"8\", \"9\", \"10\", \"11\", \"12\", \"13\", \"14\", \"15\", \"16\", \"17\", \"18\", \"19\", \"20\", \"21\", \"22\", \"23\", \"24\", \"25\", \"26\", \"27\", \"28\", \"29\", \"30\", \"31\", \"34\", \"35\"], \"mode\": \"markers\", \"name\": \"f1_score_weighted\", \"stepped\": false, \"type\": \"scatter\", \"data\": [0.7376523503026942, 0.7674902736086928, 0.737094358887909, 0.7151358595877231, 0.7495709216985132, 0.7324758903728689, 0.6997226508527072, 0.7635906638788703, 0.7456285397700516, 0.736885676632528, 0.6013846063749393, 0.7107619660475321, 0.7345100059876573, 0.7581816148236346, 0.7448153187074459, 0.7578866409637899, 0.7533101648079529, 0.7582648041572068, 0.6846366913417308, 0.701687210611104, 0.6928824655600725, 0.7541185812662196, 0.7092930820450183, 0.6939985951640996, 0.7557702756582143, 0.4198768568931552, 0.7512695820292257, 0.7616255075159896, 0.7217902946806098, 0.6888924913815383, 0.5146909419914976, 0.722988530900619, 0.7765327159894565, 0.7564348010222528]}, {\"categories\": [\"0\", \"1\", \"2\", \"3\", \"4\", \"5\", \"6\", \"7\", \"8\", \"9\", \"10\", \"11\", \"12\", \"13\", \"14\", \"15\", \"16\", \"17\", \"18\", \"19\", \"20\", \"21\", \"22\", \"23\", \"24\", \"25\", \"26\", \"27\", \"28\", \"29\", \"30\", \"31\", \"34\", \"35\"], \"mode\": \"lines\", \"name\": \"f1_score_weighted_max\", \"stepped\": true, \"type\": \"scatter\", \"data\": [0.7376523503026942, 0.7674902736086928, 0.7674902736086928, 0.7674902736086928, 0.7674902736086928, 0.7674902736086928, 0.7674902736086928, 0.7674902736086928, 0.7674902736086928, 0.7674902736086928, 0.7674902736086928, 0.7674902736086928, 0.7674902736086928, 0.7674902736086928, 0.7674902736086928, 0.7674902736086928, 0.7674902736086928, 0.7674902736086928, 0.7674902736086928, 0.7674902736086928, 0.7674902736086928, 0.7674902736086928, 0.7674902736086928, 0.7674902736086928, 0.7674902736086928, 0.7674902736086928, 0.7674902736086928, 0.7674902736086928, 0.7674902736086928, 0.7674902736086928, 0.7674902736086928, 0.7674902736086928, 0.7765327159894565, 0.7765327159894565]}], \"precision_score_weighted\": [{\"categories\": [\"0\", \"1\", \"2\", \"3\", \"4\", \"5\", \"6\", \"7\", \"8\", \"9\", \"10\", \"11\", \"12\", \"13\", \"14\", \"15\", \"16\", \"17\", \"18\", \"19\", \"20\", \"21\", \"22\", \"23\", \"24\", \"25\", \"26\", \"27\", \"28\", \"29\", \"30\", \"31\", \"34\", \"35\"], \"mode\": \"markers\", \"name\": \"precision_score_weighted\", \"stepped\": false, \"type\": \"scatter\", \"data\": [0.7396148182527014, 0.7692657656068833, 0.7482378851077021, 0.7393610464048873, 0.7654724849212202, 0.7515693573017309, 0.7061538962003748, 0.7721419500635436, 0.7558371445974231, 0.7406783565766233, 0.6619885747963283, 0.7534010892061624, 0.7503765292749477, 0.7628987878132236, 0.7624182432325778, 0.7693523578546231, 0.7563780079482088, 0.7725484360791474, 0.6977299968991627, 0.7028416590684022, 0.7016239884835854, 0.7582112741037721, 0.7611060755895864, 0.6982300165028866, 0.760323970171397, 0.34085524797359706, 0.7556513811004998, 0.7669956775550524, 0.7417512807375882, 0.7547156172831481, 0.42687712083757523, 0.7564013985949776, 0.7843597764981446, 0.765424356577404]}, {\"categories\": [\"0\", \"1\", \"2\", \"3\", \"4\", \"5\", \"6\", \"7\", \"8\", \"9\", \"10\", \"11\", \"12\", \"13\", \"14\", \"15\", \"16\", \"17\", \"18\", \"19\", \"20\", \"21\", \"22\", \"23\", \"24\", \"25\", \"26\", \"27\", \"28\", \"29\", \"30\", \"31\", \"34\", \"35\"], \"mode\": \"lines\", \"name\": \"precision_score_weighted_max\", \"stepped\": true, \"type\": \"scatter\", \"data\": [0.7396148182527014, 0.7692657656068833, 0.7692657656068833, 0.7692657656068833, 0.7692657656068833, 0.7692657656068833, 0.7692657656068833, 0.7721419500635436, 0.7721419500635436, 0.7721419500635436, 0.7721419500635436, 0.7721419500635436, 0.7721419500635436, 0.7721419500635436, 0.7721419500635436, 0.7721419500635436, 0.7721419500635436, 0.7725484360791474, 0.7725484360791474, 0.7725484360791474, 0.7725484360791474, 0.7725484360791474, 0.7725484360791474, 0.7725484360791474, 0.7725484360791474, 0.7725484360791474, 0.7725484360791474, 0.7725484360791474, 0.7725484360791474, 0.7725484360791474, 0.7725484360791474, 0.7725484360791474, 0.7843597764981446, 0.7843597764981446]}], \"AUC_weighted\": [{\"categories\": [\"0\", \"1\", \"2\", \"3\", \"4\", \"5\", \"6\", \"7\", \"8\", \"9\", \"10\", \"11\", \"12\", \"13\", \"14\", \"15\", \"16\", \"17\", \"18\", \"19\", \"20\", \"21\", \"22\", \"23\", \"24\", \"25\", \"26\", \"27\", \"28\", \"29\", \"30\", \"31\", \"34\", \"35\"], \"mode\": \"markers\", \"name\": \"AUC_weighted\", \"stepped\": false, \"type\": \"scatter\", \"data\": [0.7981013916226355, 0.8366210317228242, 0.8169358637144979, 0.8102675956717821, 0.8302080390437985, 0.8033837187808661, 0.7672168327682274, 0.8172416815528724, 0.8276878656884072, 0.8287052445482516, 0.6899760736950882, 0.8242879854698039, 0.8263983791240428, 0.8358045289003183, 0.8308679220285343, 0.8136852977394039, 0.7947765034543794, 0.8309582369150175, 0.7363807356727888, 0.7311334050506705, 0.7602996128027792, 0.8319148488061237, 0.8115470731124781, 0.7258583765013835, 0.8347048811868373, 0.5, 0.834950686779177, 0.8335134411851127, 0.8218591888815527, 0.831546658624695, 0.7550202589776035, 0.824610871439772, 0.8414406986763957, 0.8422574920848603]}, {\"categories\": [\"0\", \"1\", \"2\", \"3\", \"4\", \"5\", \"6\", \"7\", \"8\", \"9\", \"10\", \"11\", \"12\", \"13\", \"14\", \"15\", \"16\", \"17\", \"18\", \"19\", \"20\", \"21\", \"22\", \"23\", \"24\", \"25\", \"26\", \"27\", \"28\", \"29\", \"30\", \"31\", \"34\", \"35\"], \"mode\": \"lines\", \"name\": \"AUC_weighted_max\", \"stepped\": true, \"type\": \"scatter\", \"data\": [0.7981013916226355, 0.8366210317228242, 0.8366210317228242, 0.8366210317228242, 0.8366210317228242, 0.8366210317228242, 0.8366210317228242, 0.8366210317228242, 0.8366210317228242, 0.8366210317228242, 0.8366210317228242, 0.8366210317228242, 0.8366210317228242, 0.8366210317228242, 0.8366210317228242, 0.8366210317228242, 0.8366210317228242, 0.8366210317228242, 0.8366210317228242, 0.8366210317228242, 0.8366210317228242, 0.8366210317228242, 0.8366210317228242, 0.8366210317228242, 0.8366210317228242, 0.8366210317228242, 0.8366210317228242, 0.8366210317228242, 0.8366210317228242, 0.8366210317228242, 0.8366210317228242, 0.8366210317228242, 0.8414406986763957, 0.8422574920848603]}], \"balanced_accuracy\": [{\"categories\": [\"0\", \"1\", \"2\", \"3\", \"4\", \"5\", \"6\", \"7\", \"8\", \"9\", \"10\", \"11\", \"12\", \"13\", \"14\", \"15\", \"16\", \"17\", \"18\", \"19\", \"20\", \"21\", \"22\", \"23\", \"24\", \"25\", \"26\", \"27\", \"28\", \"29\", \"30\", \"31\", \"34\", \"35\"], \"mode\": \"markers\", \"name\": \"balanced_accuracy\", \"stepped\": false, \"type\": \"scatter\", \"data\": [0.7053588221478819, 0.7368196523334581, 0.6864737057447542, 0.6628658701800457, 0.7406682407276851, 0.7247936565965991, 0.6528136452558332, 0.7183740442903159, 0.6989588530001611, 0.6942321910379575, 0.5729027139124356, 0.653381603197419, 0.6806272836187788, 0.7220460713354026, 0.6943342140359465, 0.7108693805511073, 0.7132170100392574, 0.7110688029020394, 0.636635358714025, 0.6573501701906346, 0.6483957304876298, 0.7146026914335224, 0.655254718986613, 0.6466888613526711, 0.7181483287604246, 0.5, 0.7096278683352932, 0.7255319512616676, 0.6644922963366002, 0.6318125665844814, 0.5, 0.6673154740116032, 0.7308414823128951, 0.7161422544093548]}, {\"categories\": [\"0\", \"1\", \"2\", \"3\", \"4\", \"5\", \"6\", \"7\", \"8\", \"9\", \"10\", \"11\", \"12\", \"13\", \"14\", \"15\", \"16\", \"17\", \"18\", \"19\", \"20\", \"21\", \"22\", \"23\", \"24\", \"25\", \"26\", \"27\", \"28\", \"29\", \"30\", \"31\", \"34\", \"35\"], \"mode\": \"lines\", \"name\": \"balanced_accuracy_max\", \"stepped\": true, \"type\": \"scatter\", \"data\": [0.7053588221478819, 0.7368196523334581, 0.7368196523334581, 0.7368196523334581, 0.7406682407276851, 0.7406682407276851, 0.7406682407276851, 0.7406682407276851, 0.7406682407276851, 0.7406682407276851, 0.7406682407276851, 0.7406682407276851, 0.7406682407276851, 0.7406682407276851, 0.7406682407276851, 0.7406682407276851, 0.7406682407276851, 0.7406682407276851, 0.7406682407276851, 0.7406682407276851, 0.7406682407276851, 0.7406682407276851, 0.7406682407276851, 0.7406682407276851, 0.7406682407276851, 0.7406682407276851, 0.7406682407276851, 0.7406682407276851, 0.7406682407276851, 0.7406682407276851, 0.7406682407276851, 0.7406682407276851, 0.7406682407276851, 0.7406682407276851]}]}, \"metricName\": null, \"primaryMetricName\": \"accuracy\", \"showLegend\": false}, \"run_metrics\": [{\"name\": \"experiment_status\", \"run_id\": \"AutoML_1023d585-090e-40a6-a2b7-437640d0b967\", \"categories\": [0, 1, 2, 3, 4, 5, 6, 7, 8, 9, 10, 11, 12, 13], \"series\": [{\"data\": [\"DatasetEvaluation\", \"FeaturesGeneration\", \"DatasetFeaturization\", \"DatasetFeaturizationCompleted\", \"DatasetCrossValidationSplit\", \"ModelSelection\", \"BestRunExplainModel\", \"ModelExplanationDataSetSetup\", \"PickSurrogateModel\", \"EngineeredFeatureExplanations\", \"EngineeredFeatureExplanations\", \"RawFeaturesExplanations\", \"RawFeaturesExplanations\", \"BestRunExplainModel\"]}]}, {\"name\": \"experiment_status_description\", \"run_id\": \"AutoML_1023d585-090e-40a6-a2b7-437640d0b967\", \"categories\": [0, 1, 2, 3, 4, 5, 6, 7, 8, 9, 10, 11, 12, 13], \"series\": [{\"data\": [\"Gathering dataset statistics.\", \"Generating features for the dataset.\", \"Beginning to fit featurizers and featurize the dataset.\", \"Completed fit featurizers and featurizing the dataset.\", \"Generating individually featurized CV splits.\", \"Beginning model selection.\", \"Best run model explanations started\", \"Model explanations data setup completed\", \"Choosing LightGBM as the surrogate model for explanations\", \"Computation of engineered features started\", \"Computation of engineered features completed\", \"Computation of raw features started\", \"Computation of raw features completed\", \"Best run model explanations completed\"]}]}, {\"name\": \"average_precision_score_weighted\", \"run_id\": \"AutoML_1023d585-090e-40a6-a2b7-437640d0b967\", \"categories\": [0], \"series\": [{\"data\": [0.8535102896479551]}]}, {\"name\": \"f1_score_weighted\", \"run_id\": \"AutoML_1023d585-090e-40a6-a2b7-437640d0b967\", \"categories\": [0], \"series\": [{\"data\": [0.7765327159894565]}]}, {\"name\": \"recall_score_macro\", \"run_id\": \"AutoML_1023d585-090e-40a6-a2b7-437640d0b967\", \"categories\": [0], \"series\": [{\"data\": [0.7308414823128951]}]}, {\"name\": \"AUC_micro\", \"run_id\": \"AutoML_1023d585-090e-40a6-a2b7-437640d0b967\", \"categories\": [0], \"series\": [{\"data\": [0.8585508269835715]}]}, {\"name\": \"accuracy\", \"run_id\": \"AutoML_1023d585-090e-40a6-a2b7-437640d0b967\", \"categories\": [0], \"series\": [{\"data\": [0.7852358168147642]}]}, {\"name\": \"norm_macro_recall\", \"run_id\": \"AutoML_1023d585-090e-40a6-a2b7-437640d0b967\", \"categories\": [0], \"series\": [{\"data\": [0.46168296462579034]}]}, {\"name\": \"precision_score_macro\", \"run_id\": \"AutoML_1023d585-090e-40a6-a2b7-437640d0b967\", \"categories\": [0], \"series\": [{\"data\": [0.7734586462147706]}]}, {\"name\": \"matthews_correlation\", \"run_id\": \"AutoML_1023d585-090e-40a6-a2b7-437640d0b967\", \"categories\": [0], \"series\": [{\"data\": [0.5020808127477178]}]}, {\"name\": \"f1_score_macro\", \"run_id\": \"AutoML_1023d585-090e-40a6-a2b7-437640d0b967\", \"categories\": [0], \"series\": [{\"data\": [0.7420279884588121]}]}, {\"name\": \"AUC_weighted\", \"run_id\": \"AutoML_1023d585-090e-40a6-a2b7-437640d0b967\", \"categories\": [0], \"series\": [{\"data\": [0.8414406986763957]}]}, {\"name\": \"f1_score_micro\", \"run_id\": \"AutoML_1023d585-090e-40a6-a2b7-437640d0b967\", \"categories\": [0], \"series\": [{\"data\": [0.7852358168147642]}]}, {\"name\": \"log_loss\", \"run_id\": \"AutoML_1023d585-090e-40a6-a2b7-437640d0b967\", \"categories\": [0], \"series\": [{\"data\": [0.4849658694154616]}]}, {\"name\": \"average_precision_score_micro\", \"run_id\": \"AutoML_1023d585-090e-40a6-a2b7-437640d0b967\", \"categories\": [0], \"series\": [{\"data\": [0.8601221901937268]}]}, {\"name\": \"weighted_accuracy\", \"run_id\": \"AutoML_1023d585-090e-40a6-a2b7-437640d0b967\", \"categories\": [0], \"series\": [{\"data\": [0.8260233098515256]}]}, {\"name\": \"recall_score_micro\", \"run_id\": \"AutoML_1023d585-090e-40a6-a2b7-437640d0b967\", \"categories\": [0], \"series\": [{\"data\": [0.7852358168147642]}]}, {\"name\": \"balanced_accuracy\", \"run_id\": \"AutoML_1023d585-090e-40a6-a2b7-437640d0b967\", \"categories\": [0], \"series\": [{\"data\": [0.7308414823128951]}]}, {\"name\": \"recall_score_weighted\", \"run_id\": \"AutoML_1023d585-090e-40a6-a2b7-437640d0b967\", \"categories\": [0], \"series\": [{\"data\": [0.7852358168147642]}]}, {\"name\": \"average_precision_score_macro\", \"run_id\": \"AutoML_1023d585-090e-40a6-a2b7-437640d0b967\", \"categories\": [0], \"series\": [{\"data\": [0.825382588320809]}]}, {\"name\": \"AUC_macro\", \"run_id\": \"AutoML_1023d585-090e-40a6-a2b7-437640d0b967\", \"categories\": [0], \"series\": [{\"data\": [0.8414406986763957]}]}, {\"name\": \"precision_score_weighted\", \"run_id\": \"AutoML_1023d585-090e-40a6-a2b7-437640d0b967\", \"categories\": [0], \"series\": [{\"data\": [0.7843597764981446]}]}, {\"name\": \"precision_score_micro\", \"run_id\": \"AutoML_1023d585-090e-40a6-a2b7-437640d0b967\", \"categories\": [0], \"series\": [{\"data\": [0.7852358168147642]}]}], \"run_logs\": \"\\nRun is completed.\", \"graph\": {}, \"widget_settings\": {\"childWidgetDisplay\": \"popup\", \"send_telemetry\": false, \"log_level\": \"INFO\", \"sdk_version\": \"1.20.0\"}, \"loading\": false}"
          },
          "metadata": {}
        }
      ],
      "execution_count": 8,
      "metadata": {
        "gather": {
          "logged": 1613103108002
        },
        "jupyter": {
          "outputs_hidden": false,
          "source_hidden": false
        },
        "nteract": {
          "transient": {
            "deleting": false
          }
        }
      }
    },
    {
      "cell_type": "code",
      "source": [
        "remote_run.wait_for_completion(show_output=True)"
      ],
      "outputs": [
        {
          "output_type": "stream",
          "name": "stdout",
          "text": [
            "\n",
            "Current status: FeaturesGeneration. Generating features for the dataset.\n",
            "Current status: DatasetCrossValidationSplit. Generating individually featurized CV splits.\n",
            "Current status: ModelSelection. Beginning model selection.\n",
            "\n",
            "****************************************************************************************************\n",
            "DATA GUARDRAILS: \n",
            "\n",
            "TYPE:         Cross validation\n",
            "STATUS:       DONE\n",
            "DESCRIPTION:  Each iteration of the trained model was validated through cross-validation.\n",
            "              \n",
            "DETAILS:      \n",
            "+---------------------------------+\n",
            "|Number of folds                  |\n",
            "+=================================+\n",
            "|10                               |\n",
            "+---------------------------------+\n",
            "\n",
            "****************************************************************************************************\n",
            "\n",
            "TYPE:         Class balancing detection\n",
            "STATUS:       PASSED\n",
            "DESCRIPTION:  Your inputs were analyzed, and all classes are balanced in your training data.\n",
            "              Learn more about imbalanced data: https://aka.ms/AutomatedMLImbalancedData\n",
            "\n",
            "****************************************************************************************************\n",
            "\n",
            "TYPE:         Missing feature values imputation\n",
            "STATUS:       PASSED\n",
            "DESCRIPTION:  No feature missing values were detected in the training data.\n",
            "              Learn more about missing value imputation: https://aka.ms/AutomatedMLFeaturization\n",
            "\n",
            "****************************************************************************************************\n",
            "\n",
            "TYPE:         High cardinality feature detection\n",
            "STATUS:       PASSED\n",
            "DESCRIPTION:  Your inputs were analyzed, and no high cardinality features were detected.\n",
            "              Learn more about high cardinality feature handling: https://aka.ms/AutomatedMLFeaturization\n",
            "\n",
            "****************************************************************************************************\n",
            "\n",
            "****************************************************************************************************\n",
            "ITERATION: The iteration being evaluated.\n",
            "PIPELINE: A summary description of the pipeline being evaluated.\n",
            "DURATION: Time taken for the current iteration.\n",
            "METRIC: The result of computing score on the fitted pipeline.\n",
            "BEST: The best observed score thus far.\n",
            "****************************************************************************************************\n",
            "\n",
            " ITERATION   PIPELINE                                       DURATION      METRIC      BEST\n",
            "         0   MaxAbsScaler LightGBM                          0:00:54       0.7396    0.7396\n",
            "         2   MaxAbsScaler RandomForest                      0:00:56       0.7514    0.7514\n",
            "         1   MaxAbsScaler XGBoostClassifier                 0:00:59       0.7696    0.7696\n",
            "         3   MaxAbsScaler RandomForest                      0:00:53       0.7356    0.7696\n",
            "         6   SparseNormalizer XGBoostClassifier             0:01:00       0.7109    0.7696\n",
            "         7   MaxAbsScaler LogisticRegression                0:00:53       0.7722    0.7722\n",
            "         4   MaxAbsScaler RandomForest                      0:03:39       0.7449    0.7722\n",
            "         5   MaxAbsScaler RandomForest                      0:03:30       0.7266    0.7722\n",
            "         8   StandardScalerWrapper RandomForest             0:00:56       0.7578    0.7722\n",
            "        10   SparseNormalizer XGBoostClassifier             0:00:53       0.6563    0.7722\n",
            "         9   MaxAbsScaler RandomForest                      0:00:55       0.7448    0.7722\n",
            "        11   MaxAbsScaler ExtremeRandomTrees                0:01:04       0.7396    0.7722\n",
            "        12   MaxAbsScaler LightGBM                          0:00:54       0.7513    0.7722\n",
            "        13   StandardScalerWrapper LightGBM                 0:00:53       0.7631    0.7722\n",
            "        14   MaxAbsScaler LightGBM                          0:00:58       0.7604    0.7722\n",
            "        15   MaxAbsScaler LogisticRegression                0:00:49       0.7683    0.7722\n",
            "        16   TruncatedSVDWrapper XGBoostClassifier          0:00:54       0.7593    0.7722\n",
            "        17   MaxAbsScaler LightGBM                          0:00:51       0.7709    0.7722\n",
            "        18   SparseNormalizer RandomForest                  0:00:57       0.7006    0.7722\n",
            "        19   SparseNormalizer XGBoostClassifier             0:00:56       0.7096    0.7722\n",
            "        20   SparseNormalizer XGBoostClassifier             0:01:01       0.7070    0.7722\n",
            "        21   StandardScalerWrapper LightGBM                 0:00:58       0.7591    0.7722\n",
            "        22   StandardScalerWrapper LightGBM                 0:00:53       0.7435    0.7722\n",
            "        23   SparseNormalizer XGBoostClassifier             0:00:49       0.7082    0.7722\n",
            "        24   StandardScalerWrapper LightGBM                 0:00:58       0.7605    0.7722\n",
            "        25   MaxAbsScaler LogisticRegression                0:00:55       0.5650    0.7722\n",
            "        26   MaxAbsScaler RandomForest                      0:01:09       0.7579    0.7722\n",
            "        27   MaxAbsScaler LightGBM                          0:00:57       0.7657    0.7722\n",
            "        28   StandardScalerWrapper LightGBM                 0:00:53       0.7422    0.7722\n",
            "        29   MaxAbsScaler LightGBM                          0:00:55       0.7318    0.7722\n",
            "        30   MaxAbsScaler LogisticRegression                0:01:01       0.6510    0.7722\n",
            "        31   MaxAbsScaler ExtremeRandomTrees                0:00:55       0.7474    0.7722\n",
            "        32                                                  0:00:08          nan    0.7722\n",
            "        33                                                  0:00:19          nan    0.7722\n",
            "        34    VotingEnsemble                                0:01:46       0.7852    0.7852\n",
            "        35    StackEnsemble                                 0:02:04       0.7631    0.7852\n"
          ]
        },
        {
          "output_type": "execute_result",
          "execution_count": 9,
          "data": {
            "text/plain": "{'runId': 'AutoML_1023d585-090e-40a6-a2b7-437640d0b967',\n 'target': 'capcpu',\n 'status': 'Completed',\n 'startTimeUtc': '2021-02-12T04:11:56.647638Z',\n 'endTimeUtc': '2021-02-12T04:40:42.910121Z',\n 'properties': {'num_iterations': '1000',\n  'training_type': 'TrainFull',\n  'acquisition_function': 'EI',\n  'primary_metric': 'accuracy',\n  'train_split': '0',\n  'acquisition_parameter': '0',\n  'num_cross_validation': None,\n  'target': 'capcpu',\n  'AMLSettingsJsonString': '{\"path\":null,\"name\":\"diabetes\",\"subscription_id\":\"d4ad7261-832d-46b2-b093-22156001df5b\",\"resource_group\":\"aml-quickstarts-138656\",\"workspace_name\":\"quick-starts-ws-138656\",\"region\":\"southcentralus\",\"compute_target\":\"capcpu\",\"spark_service\":null,\"azure_service\":\"remote\",\"many_models\":false,\"pipeline_fetch_max_batch_size\":1,\"iterations\":1000,\"primary_metric\":\"accuracy\",\"task_type\":\"classification\",\"data_script\":null,\"validation_size\":0.0,\"n_cross_validations\":null,\"y_min\":null,\"y_max\":null,\"num_classes\":null,\"featurization\":\"auto\",\"_ignore_package_version_incompatibilities\":false,\"is_timeseries\":false,\"max_cores_per_iteration\":1,\"max_concurrent_iterations\":3,\"iteration_timeout_minutes\":null,\"mem_in_mb\":null,\"enforce_time_on_windows\":false,\"experiment_timeout_minutes\":30,\"experiment_exit_score\":null,\"whitelist_models\":null,\"blacklist_algos\":[\"TensorFlowLinearClassifier\",\"TensorFlowDNN\"],\"supported_models\":[\"MultinomialNaiveBayes\",\"XGBoostClassifier\",\"KNN\",\"AveragedPerceptronClassifier\",\"SVM\",\"TensorFlowDNN\",\"LogisticRegression\",\"ExtremeRandomTrees\",\"GradientBoosting\",\"LightGBM\",\"LinearSVM\",\"DecisionTree\",\"SGD\",\"RandomForest\",\"BernoulliNaiveBayes\",\"TensorFlowLinearClassifier\"],\"auto_blacklist\":true,\"blacklist_samples_reached\":false,\"exclude_nan_labels\":true,\"verbosity\":20,\"_debug_log\":\"azureml_automl.log\",\"show_warnings\":false,\"model_explainability\":true,\"service_url\":null,\"sdk_url\":null,\"sdk_packages\":null,\"enable_onnx_compatible_models\":false,\"enable_split_onnx_featurizer_estimator_models\":false,\"vm_type\":\"STANDARD_D2_V2\",\"telemetry_verbosity\":20,\"send_telemetry\":true,\"enable_dnn\":false,\"scenario\":\"SDK-1.13.0\",\"environment_label\":null,\"force_text_dnn\":false,\"enable_feature_sweeping\":true,\"enable_early_stopping\":true,\"early_stopping_n_iters\":10,\"metrics\":null,\"enable_ensembling\":true,\"enable_stack_ensembling\":true,\"ensemble_iterations\":15,\"enable_tf\":false,\"enable_subsampling\":null,\"subsample_seed\":null,\"enable_nimbusml\":false,\"enable_streaming\":false,\"force_streaming\":false,\"track_child_runs\":true,\"allowed_private_models\":[],\"label_column_name\":\"Outcome\",\"weight_column_name\":null,\"cv_split_column_names\":null,\"enable_local_managed\":false,\"_local_managed_run_id\":null,\"cost_mode\":1,\"lag_length\":0,\"metric_operation\":\"maximize\",\"preprocess\":true}',\n  'DataPrepJsonString': '{\\\\\"training_data\\\\\": \\\\\"{\\\\\\\\\\\\\"blocks\\\\\\\\\\\\\": [{\\\\\\\\\\\\\"id\\\\\\\\\\\\\": \\\\\\\\\\\\\"c5c03420-e15f-4ab7-8b9a-e513e867adcb\\\\\\\\\\\\\", \\\\\\\\\\\\\"type\\\\\\\\\\\\\": \\\\\\\\\\\\\"Microsoft.DPrep.GetFilesBlock\\\\\\\\\\\\\", \\\\\\\\\\\\\"arguments\\\\\\\\\\\\\": {\\\\\\\\\\\\\"isArchive\\\\\\\\\\\\\": false, \\\\\\\\\\\\\"path\\\\\\\\\\\\\": {\\\\\\\\\\\\\"target\\\\\\\\\\\\\": 4, \\\\\\\\\\\\\"resourceDetails\\\\\\\\\\\\\": [{\\\\\\\\\\\\\"path\\\\\\\\\\\\\": \\\\\\\\\\\\\"https://raw.githubusercontent.com/SaraSrkr/Capstone-Prpject/main/diabetes.csv\\\\\\\\\\\\\"}]}}, \\\\\\\\\\\\\"localData\\\\\\\\\\\\\": {}, \\\\\\\\\\\\\"isEnabled\\\\\\\\\\\\\": true, \\\\\\\\\\\\\"name\\\\\\\\\\\\\": null, \\\\\\\\\\\\\"annotation\\\\\\\\\\\\\": null}, {\\\\\\\\\\\\\"id\\\\\\\\\\\\\": \\\\\\\\\\\\\"77e3290b-9381-44f8-870b-4b81ce8a3f7a\\\\\\\\\\\\\", \\\\\\\\\\\\\"type\\\\\\\\\\\\\": \\\\\\\\\\\\\"Microsoft.DPrep.ParseDelimitedBlock\\\\\\\\\\\\\", \\\\\\\\\\\\\"arguments\\\\\\\\\\\\\": {\\\\\\\\\\\\\"columnHeadersMode\\\\\\\\\\\\\": 3, \\\\\\\\\\\\\"fileEncoding\\\\\\\\\\\\\": 0, \\\\\\\\\\\\\"handleQuotedLineBreaks\\\\\\\\\\\\\": false, \\\\\\\\\\\\\"preview\\\\\\\\\\\\\": false, \\\\\\\\\\\\\"separator\\\\\\\\\\\\\": \\\\\\\\\\\\\",\\\\\\\\\\\\\", \\\\\\\\\\\\\"skipRows\\\\\\\\\\\\\": 0, \\\\\\\\\\\\\"skipRowsMode\\\\\\\\\\\\\": 0}, \\\\\\\\\\\\\"localData\\\\\\\\\\\\\": {}, \\\\\\\\\\\\\"isEnabled\\\\\\\\\\\\\": true, \\\\\\\\\\\\\"name\\\\\\\\\\\\\": null, \\\\\\\\\\\\\"annotation\\\\\\\\\\\\\": null}, {\\\\\\\\\\\\\"id\\\\\\\\\\\\\": \\\\\\\\\\\\\"041755ff-28e8-44f4-ad6a-3a98941a64cb\\\\\\\\\\\\\", \\\\\\\\\\\\\"type\\\\\\\\\\\\\": \\\\\\\\\\\\\"Microsoft.DPrep.DropColumnsBlock\\\\\\\\\\\\\", \\\\\\\\\\\\\"arguments\\\\\\\\\\\\\": {\\\\\\\\\\\\\"columns\\\\\\\\\\\\\": {\\\\\\\\\\\\\"type\\\\\\\\\\\\\": 0, \\\\\\\\\\\\\"details\\\\\\\\\\\\\": {\\\\\\\\\\\\\"selectedColumns\\\\\\\\\\\\\": [\\\\\\\\\\\\\"Path\\\\\\\\\\\\\"]}}}, \\\\\\\\\\\\\"localData\\\\\\\\\\\\\": {}, \\\\\\\\\\\\\"isEnabled\\\\\\\\\\\\\": true, \\\\\\\\\\\\\"name\\\\\\\\\\\\\": null, \\\\\\\\\\\\\"annotation\\\\\\\\\\\\\": null}, {\\\\\\\\\\\\\"id\\\\\\\\\\\\\": \\\\\\\\\\\\\"0d8eab2a-1892-4916-87dc-3db3f1336df3\\\\\\\\\\\\\", \\\\\\\\\\\\\"type\\\\\\\\\\\\\": \\\\\\\\\\\\\"Microsoft.DPrep.SetColumnTypesBlock\\\\\\\\\\\\\", \\\\\\\\\\\\\"arguments\\\\\\\\\\\\\": {\\\\\\\\\\\\\"columnConversion\\\\\\\\\\\\\": [{\\\\\\\\\\\\\"column\\\\\\\\\\\\\": {\\\\\\\\\\\\\"type\\\\\\\\\\\\\": 2, \\\\\\\\\\\\\"details\\\\\\\\\\\\\": {\\\\\\\\\\\\\"selectedColumn\\\\\\\\\\\\\": \\\\\\\\\\\\\"Pregnancies\\\\\\\\\\\\\"}}, \\\\\\\\\\\\\"typeProperty\\\\\\\\\\\\\": 2}, {\\\\\\\\\\\\\"column\\\\\\\\\\\\\": {\\\\\\\\\\\\\"type\\\\\\\\\\\\\": 2, \\\\\\\\\\\\\"details\\\\\\\\\\\\\": {\\\\\\\\\\\\\"selectedColumn\\\\\\\\\\\\\": \\\\\\\\\\\\\"Glucose\\\\\\\\\\\\\"}}, \\\\\\\\\\\\\"typeProperty\\\\\\\\\\\\\": 2}, {\\\\\\\\\\\\\"column\\\\\\\\\\\\\": {\\\\\\\\\\\\\"type\\\\\\\\\\\\\": 2, \\\\\\\\\\\\\"details\\\\\\\\\\\\\": {\\\\\\\\\\\\\"selectedColumn\\\\\\\\\\\\\": \\\\\\\\\\\\\"BloodPressure\\\\\\\\\\\\\"}}, \\\\\\\\\\\\\"typeProperty\\\\\\\\\\\\\": 2}, {\\\\\\\\\\\\\"column\\\\\\\\\\\\\": {\\\\\\\\\\\\\"type\\\\\\\\\\\\\": 2, \\\\\\\\\\\\\"details\\\\\\\\\\\\\": {\\\\\\\\\\\\\"selectedColumn\\\\\\\\\\\\\": \\\\\\\\\\\\\"SkinThickness\\\\\\\\\\\\\"}}, \\\\\\\\\\\\\"typeProperty\\\\\\\\\\\\\": 2}, {\\\\\\\\\\\\\"column\\\\\\\\\\\\\": {\\\\\\\\\\\\\"type\\\\\\\\\\\\\": 2, \\\\\\\\\\\\\"details\\\\\\\\\\\\\": {\\\\\\\\\\\\\"selectedColumn\\\\\\\\\\\\\": \\\\\\\\\\\\\"Insulin\\\\\\\\\\\\\"}}, \\\\\\\\\\\\\"typeProperty\\\\\\\\\\\\\": 2}, {\\\\\\\\\\\\\"column\\\\\\\\\\\\\": {\\\\\\\\\\\\\"type\\\\\\\\\\\\\": 2, \\\\\\\\\\\\\"details\\\\\\\\\\\\\": {\\\\\\\\\\\\\"selectedColumn\\\\\\\\\\\\\": \\\\\\\\\\\\\"BMI\\\\\\\\\\\\\"}}, \\\\\\\\\\\\\"typeProperty\\\\\\\\\\\\\": 3}, {\\\\\\\\\\\\\"column\\\\\\\\\\\\\": {\\\\\\\\\\\\\"type\\\\\\\\\\\\\": 2, \\\\\\\\\\\\\"details\\\\\\\\\\\\\": {\\\\\\\\\\\\\"selectedColumn\\\\\\\\\\\\\": \\\\\\\\\\\\\"DiabetesPedigreeFunction\\\\\\\\\\\\\"}}, \\\\\\\\\\\\\"typeProperty\\\\\\\\\\\\\": 3}, {\\\\\\\\\\\\\"column\\\\\\\\\\\\\": {\\\\\\\\\\\\\"type\\\\\\\\\\\\\": 2, \\\\\\\\\\\\\"details\\\\\\\\\\\\\": {\\\\\\\\\\\\\"selectedColumn\\\\\\\\\\\\\": \\\\\\\\\\\\\"Age\\\\\\\\\\\\\"}}, \\\\\\\\\\\\\"typeProperty\\\\\\\\\\\\\": 2}, {\\\\\\\\\\\\\"column\\\\\\\\\\\\\": {\\\\\\\\\\\\\"type\\\\\\\\\\\\\": 2, \\\\\\\\\\\\\"details\\\\\\\\\\\\\": {\\\\\\\\\\\\\"selectedColumn\\\\\\\\\\\\\": \\\\\\\\\\\\\"Outcome\\\\\\\\\\\\\"}}, \\\\\\\\\\\\\"typeProperty\\\\\\\\\\\\\": 2}]}, \\\\\\\\\\\\\"localData\\\\\\\\\\\\\": {}, \\\\\\\\\\\\\"isEnabled\\\\\\\\\\\\\": true, \\\\\\\\\\\\\"name\\\\\\\\\\\\\": null, \\\\\\\\\\\\\"annotation\\\\\\\\\\\\\": null}], \\\\\\\\\\\\\"inspectors\\\\\\\\\\\\\": [], \\\\\\\\\\\\\"meta\\\\\\\\\\\\\": {\\\\\\\\\\\\\"savedDatasetId\\\\\\\\\\\\\": \\\\\\\\\\\\\"c1a08b46-6ee2-4277-8bdf-137d96bcc932\\\\\\\\\\\\\", \\\\\\\\\\\\\"datasetType\\\\\\\\\\\\\": \\\\\\\\\\\\\"tabular\\\\\\\\\\\\\", \\\\\\\\\\\\\"subscriptionId\\\\\\\\\\\\\": \\\\\\\\\\\\\"d4ad7261-832d-46b2-b093-22156001df5b\\\\\\\\\\\\\", \\\\\\\\\\\\\"workspaceId\\\\\\\\\\\\\": \\\\\\\\\\\\\"9cf052a2-4b3a-41ab-b289-c1b4446d31df\\\\\\\\\\\\\", \\\\\\\\\\\\\"workspaceLocation\\\\\\\\\\\\\": \\\\\\\\\\\\\"southcentralus\\\\\\\\\\\\\"}}\\\\\", \\\\\"activities\\\\\": 0}',\n  'EnableSubsampling': None,\n  'runTemplate': 'AutoML',\n  'azureml.runsource': 'automl',\n  'display_task_type': 'classification',\n  'dependencies_versions': '{\"azureml-widgets\": \"1.20.0\", \"azureml-train\": \"1.20.0\", \"azureml-train-restclients-hyperdrive\": \"1.20.0\", \"azureml-train-core\": \"1.20.0\", \"azureml-train-automl\": \"1.20.0\", \"azureml-train-automl-runtime\": \"1.20.0\", \"azureml-train-automl-client\": \"1.20.0\", \"azureml-tensorboard\": \"1.20.0\", \"azureml-telemetry\": \"1.20.0\", \"azureml-sdk\": \"1.20.0\", \"azureml-samples\": \"0+unknown\", \"azureml-pipeline\": \"1.20.0\", \"azureml-pipeline-steps\": \"1.20.0\", \"azureml-pipeline-core\": \"1.20.0\", \"azureml-opendatasets\": \"1.20.0\", \"azureml-model-management-sdk\": \"1.0.1b6.post1\", \"azureml-mlflow\": \"1.20.0.post1\", \"azureml-interpret\": \"1.20.0\", \"azureml-explain-model\": \"1.20.0\", \"azureml-defaults\": \"1.20.0\", \"azureml-dataset-runtime\": \"1.20.0\", \"azureml-dataprep\": \"2.7.3\", \"azureml-dataprep-rslex\": \"1.5.0\", \"azureml-dataprep-native\": \"27.0.0\", \"azureml-datadrift\": \"1.20.0\", \"azureml-core\": \"1.20.0\", \"azureml-contrib-services\": \"1.20.0\", \"azureml-contrib-server\": \"1.20.0\", \"azureml-contrib-reinforcementlearning\": \"1.20.0\", \"azureml-contrib-pipeline-steps\": \"1.20.0\", \"azureml-contrib-notebook\": \"1.20.0\", \"azureml-contrib-interpret\": \"1.20.0\", \"azureml-contrib-gbdt\": \"1.20.0\", \"azureml-contrib-fairness\": \"1.20.0\", \"azureml-contrib-dataset\": \"1.20.0\", \"azureml-cli-common\": \"1.20.0\", \"azureml-automl-runtime\": \"1.20.0\", \"azureml-automl-core\": \"1.20.0\", \"azureml-accel-models\": \"1.20.0\"}',\n  '_aml_system_scenario_identification': 'Remote.Parent',\n  'ClientType': 'SDK',\n  'environment_cpu_name': 'AzureML-AutoML',\n  'environment_cpu_label': 'prod',\n  'environment_gpu_name': 'AzureML-AutoML-GPU',\n  'environment_gpu_label': 'prod',\n  'root_attribution': 'automl',\n  'attribution': 'AutoML',\n  'Orchestrator': 'AutoML',\n  'CancelUri': 'https://southcentralus.experiments.azureml.net/jasmine/v1.0/subscriptions/d4ad7261-832d-46b2-b093-22156001df5b/resourceGroups/aml-quickstarts-138656/providers/Microsoft.MachineLearningServices/workspaces/quick-starts-ws-138656/experimentids/578c1959-c431-4ff6-a4f1-4245927e3243/cancel/AutoML_1023d585-090e-40a6-a2b7-437640d0b967',\n  'ClientSdkVersion': '1.21.0',\n  'snapshotId': '00000000-0000-0000-0000-000000000000',\n  'SetupRunId': 'AutoML_1023d585-090e-40a6-a2b7-437640d0b967_setup',\n  'SetupRunContainerId': 'dcid.AutoML_1023d585-090e-40a6-a2b7-437640d0b967_setup',\n  'FeaturizationRunJsonPath': 'featurizer_container.json',\n  'FeaturizationRunId': 'AutoML_1023d585-090e-40a6-a2b7-437640d0b967_featurize',\n  'ProblemInfoJsonString': '{\"dataset_num_categorical\": 0, \"is_sparse\": true, \"subsampling\": false, \"dataset_classes\": 2, \"dataset_features\": 24, \"dataset_samples\": 768, \"single_frequency_class_detected\": false}',\n  'ModelExplainRunId': 'AutoML_1023d585-090e-40a6-a2b7-437640d0b967_ModelExplain'},\n 'inputDatasets': [{'dataset': {'id': 'c1a08b46-6ee2-4277-8bdf-137d96bcc932'}, 'consumptionDetails': {'type': 'RunInput', 'inputName': 'training_data', 'mechanism': 'Direct'}}],\n 'outputDatasets': [],\n 'logFiles': {},\n 'submittedBy': 'ODL_User 138656'}"
          },
          "metadata": {}
        }
      ],
      "execution_count": 9,
      "metadata": {
        "collapsed": true,
        "jupyter": {
          "source_hidden": false,
          "outputs_hidden": false
        },
        "nteract": {
          "transient": {
            "deleting": false
          }
        },
        "gather": {
          "logged": 1613104856066
        }
      }
    },
    {
      "cell_type": "markdown",
      "source": [
        "## Best Model\n",
        "\n",
        "TODO: In the cell below, get the best model from the automl experiments and display all the properties of the model.\n",
        "\n"
      ],
      "metadata": {}
    },
    {
      "cell_type": "code",
      "source": [
        "import joblib\r\n",
        "# Get your best run and save the model from that run.\r\n",
        "best_run, fitted_model = remote_run.get_output()\r\n",
        "\r\n",
        "print(best_run.get_details()['runDefinition']['arguments'])\r\n",
        " \r\n",
        "print('Best Run Id: ', best_run.id)\r\n",
        "\r\n",
        "print(best_run)\r\n",
        "print(fitted_model)"
      ],
      "outputs": [
        {
          "output_type": "stream",
          "name": "stderr",
          "text": [
            "WARNING:root:The version of the SDK does not match the version the model was trained on.\n",
            "WARNING:root:The consistency in the result may not be guaranteed.\n",
            "WARNING:root:Package:azureml-automl-core, training version:1.21.0, current version:1.20.0\n",
            "Package:azureml-automl-runtime, training version:1.21.0, current version:1.20.0\n",
            "Package:azureml-core, training version:1.21.0.post1, current version:1.20.0\n",
            "Package:azureml-dataprep, training version:2.8.2, current version:2.7.3\n",
            "Package:azureml-dataprep-native, training version:28.0.0, current version:27.0.0\n",
            "Package:azureml-dataprep-rslex, training version:1.6.0, current version:1.5.0\n",
            "Package:azureml-dataset-runtime, training version:1.21.0, current version:1.20.0\n",
            "Package:azureml-defaults, training version:1.21.0, current version:1.20.0\n",
            "Package:azureml-interpret, training version:1.21.0, current version:1.20.0\n",
            "Package:azureml-pipeline-core, training version:1.21.0, current version:1.20.0\n",
            "Package:azureml-telemetry, training version:1.21.0, current version:1.20.0\n",
            "Package:azureml-train-automl-client, training version:1.21.0, current version:1.20.0\n",
            "Package:azureml-train-automl-runtime, training version:1.21.0, current version:1.20.0\n",
            "WARNING:root:Please ensure the version of your local conda dependencies match the version on which your model was trained in order to properly retrieve your model.\n"
          ]
        },
        {
          "output_type": "stream",
          "name": "stdout",
          "text": [
            "[]\n",
            "Best Run Id:  AutoML_1023d585-090e-40a6-a2b7-437640d0b967_34\n",
            "Run(Experiment: diabetes,\n",
            "Id: AutoML_1023d585-090e-40a6-a2b7-437640d0b967_34,\n",
            "Type: azureml.scriptrun,\n",
            "Status: Completed)\n",
            "Pipeline(memory=None,\n",
            "         steps=[('datatransformer',\n",
            "                 DataTransformer(enable_dnn=None, enable_feature_sweeping=None,\n",
            "                                 feature_sweeping_config=None,\n",
            "                                 feature_sweeping_timeout=None,\n",
            "                                 featurization_config=None, force_text_dnn=None,\n",
            "                                 is_cross_validation=None,\n",
            "                                 is_onnx_compatible=None, logger=None,\n",
            "                                 observer=None, task=None, working_dir=None)),\n",
            "                ('prefittedsoftvotingclassifier',...\n",
            "                                                                                               silent=None,\n",
            "                                                                                               subsample=1,\n",
            "                                                                                               tree_method='auto',\n",
            "                                                                                               verbose=-10,\n",
            "                                                                                               verbosity=0))],\n",
            "                                                                     verbose=False))],\n",
            "                                               flatten_transform=None,\n",
            "                                               weights=[0.07692307692307693,\n",
            "                                                        0.07692307692307693,\n",
            "                                                        0.07692307692307693,\n",
            "                                                        0.07692307692307693,\n",
            "                                                        0.15384615384615385,\n",
            "                                                        0.07692307692307693,\n",
            "                                                        0.07692307692307693,\n",
            "                                                        0.07692307692307693,\n",
            "                                                        0.07692307692307693,\n",
            "                                                        0.07692307692307693,\n",
            "                                                        0.15384615384615385]))],\n",
            "         verbose=False)\n"
          ]
        }
      ],
      "execution_count": 10,
      "metadata": {
        "gather": {
          "logged": 1613104947643
        },
        "jupyter": {
          "outputs_hidden": false,
          "source_hidden": false
        },
        "nteract": {
          "transient": {
            "deleting": false
          }
        }
      }
    },
    {
      "cell_type": "code",
      "source": [
        "from pprint import pprint\r\n",
        "\r\n",
        "def print_model(model, prefix=\"\"):\r\n",
        "    for step in model.steps:\r\n",
        "        print(prefix + step[0])\r\n",
        "        if hasattr(step[1], 'estimators') and hasattr(step[1], 'weights'):\r\n",
        "            pprint({'estimators': list(\r\n",
        "                e[0] for e in step[1].estimators), 'weights': step[1].weights})\r\n",
        "            print()\r\n",
        "            for estimator in step[1].estimators:\r\n",
        "                print_model(estimator[1], estimator[0] + ' - ')\r\n",
        "        else:\r\n",
        "            pprint(step[1].get_params())\r\n",
        "            print()\r\n",
        "\r\n",
        "print_model(fitted_model)"
      ],
      "outputs": [
        {
          "output_type": "stream",
          "name": "stdout",
          "text": [
            "datatransformer\n",
            "{'enable_dnn': None,\n",
            " 'enable_feature_sweeping': None,\n",
            " 'feature_sweeping_config': None,\n",
            " 'feature_sweeping_timeout': None,\n",
            " 'featurization_config': None,\n",
            " 'force_text_dnn': None,\n",
            " 'is_cross_validation': None,\n",
            " 'is_onnx_compatible': None,\n",
            " 'logger': None,\n",
            " 'observer': None,\n",
            " 'task': None,\n",
            " 'working_dir': None}\n",
            "\n",
            "prefittedsoftvotingclassifier\n",
            "{'estimators': ['7', '17', '1', '15', '27', '13', '24', '16', '8', '3', '10'],\n",
            " 'weights': [0.07692307692307693,\n",
            "             0.07692307692307693,\n",
            "             0.07692307692307693,\n",
            "             0.07692307692307693,\n",
            "             0.15384615384615385,\n",
            "             0.07692307692307693,\n",
            "             0.07692307692307693,\n",
            "             0.07692307692307693,\n",
            "             0.07692307692307693,\n",
            "             0.07692307692307693,\n",
            "             0.15384615384615385]}\n",
            "\n",
            "7 - maxabsscaler\n",
            "{'copy': True}\n",
            "\n",
            "7 - logisticregression\n",
            "{'C': 7.9060432109076855,\n",
            " 'class_weight': None,\n",
            " 'dual': False,\n",
            " 'fit_intercept': True,\n",
            " 'intercept_scaling': 1,\n",
            " 'l1_ratio': None,\n",
            " 'max_iter': 100,\n",
            " 'multi_class': 'ovr',\n",
            " 'n_jobs': 1,\n",
            " 'penalty': 'l2',\n",
            " 'random_state': None,\n",
            " 'solver': 'saga',\n",
            " 'tol': 0.0001,\n",
            " 'verbose': 0,\n",
            " 'warm_start': False}\n",
            "\n",
            "17 - maxabsscaler\n",
            "{'copy': True}\n",
            "\n",
            "17 - lightgbmclassifier\n",
            "{'boosting_type': 'goss',\n",
            " 'class_weight': None,\n",
            " 'colsample_bytree': 0.4955555555555555,\n",
            " 'importance_type': 'split',\n",
            " 'learning_rate': 0.04211105263157895,\n",
            " 'max_bin': 70,\n",
            " 'max_depth': 6,\n",
            " 'min_child_samples': 77,\n",
            " 'min_child_weight': 1,\n",
            " 'min_split_gain': 0.2631578947368421,\n",
            " 'n_estimators': 50,\n",
            " 'n_jobs': 1,\n",
            " 'num_leaves': 71,\n",
            " 'objective': None,\n",
            " 'random_state': None,\n",
            " 'reg_alpha': 0.6842105263157894,\n",
            " 'reg_lambda': 0.7894736842105263,\n",
            " 'silent': True,\n",
            " 'subsample': 1,\n",
            " 'subsample_for_bin': 200000,\n",
            " 'subsample_freq': 0,\n",
            " 'verbose': -10}\n",
            "\n",
            "1 - maxabsscaler\n",
            "{'copy': True}\n",
            "\n",
            "1 - xgboostclassifier\n",
            "{'base_score': 0.5,\n",
            " 'booster': 'gbtree',\n",
            " 'colsample_bylevel': 1,\n",
            " 'colsample_bynode': 1,\n",
            " 'colsample_bytree': 1,\n",
            " 'gamma': 0,\n",
            " 'learning_rate': 0.1,\n",
            " 'max_delta_step': 0,\n",
            " 'max_depth': 3,\n",
            " 'min_child_weight': 1,\n",
            " 'missing': nan,\n",
            " 'n_estimators': 100,\n",
            " 'n_jobs': 1,\n",
            " 'nthread': None,\n",
            " 'objective': 'binary:logistic',\n",
            " 'random_state': 0,\n",
            " 'reg_alpha': 0,\n",
            " 'reg_lambda': 1,\n",
            " 'scale_pos_weight': 1,\n",
            " 'seed': None,\n",
            " 'silent': None,\n",
            " 'subsample': 1,\n",
            " 'tree_method': 'auto',\n",
            " 'verbose': -10,\n",
            " 'verbosity': 0}\n",
            "\n",
            "15 - maxabsscaler\n",
            "{'copy': True}\n",
            "\n",
            "15 - logisticregression\n",
            "{'C': 2.559547922699533,\n",
            " 'class_weight': None,\n",
            " 'dual': False,\n",
            " 'fit_intercept': True,\n",
            " 'intercept_scaling': 1,\n",
            " 'l1_ratio': None,\n",
            " 'max_iter': 100,\n",
            " 'multi_class': 'ovr',\n",
            " 'n_jobs': 1,\n",
            " 'penalty': 'l2',\n",
            " 'random_state': None,\n",
            " 'solver': 'saga',\n",
            " 'tol': 0.0001,\n",
            " 'verbose': 0,\n",
            " 'warm_start': False}\n",
            "\n",
            "27 - maxabsscaler\n",
            "{'copy': True}\n",
            "\n",
            "27 - lightgbmclassifier\n",
            "{'boosting_type': 'gbdt',\n",
            " 'class_weight': None,\n",
            " 'colsample_bytree': 0.8911111111111111,\n",
            " 'importance_type': 'split',\n",
            " 'learning_rate': 0.09473736842105263,\n",
            " 'max_bin': 70,\n",
            " 'max_depth': 6,\n",
            " 'min_child_samples': 61,\n",
            " 'min_child_weight': 1,\n",
            " 'min_split_gain': 0.7368421052631579,\n",
            " 'n_estimators': 50,\n",
            " 'n_jobs': 1,\n",
            " 'num_leaves': 170,\n",
            " 'objective': None,\n",
            " 'random_state': None,\n",
            " 'reg_alpha': 0.5789473684210527,\n",
            " 'reg_lambda': 0.6842105263157894,\n",
            " 'silent': True,\n",
            " 'subsample': 0.5942105263157895,\n",
            " 'subsample_for_bin': 200000,\n",
            " 'subsample_freq': 0,\n",
            " 'verbose': -10}\n",
            "\n",
            "13 - standardscalerwrapper\n",
            "{'class_name': 'StandardScaler',\n",
            " 'copy': True,\n",
            " 'module_name': 'sklearn.preprocessing._data',\n",
            " 'with_mean': False,\n",
            " 'with_std': True}\n",
            "\n",
            "13 - lightgbmclassifier\n",
            "{'boosting_type': 'gbdt',\n",
            " 'class_weight': None,\n",
            " 'colsample_bytree': 0.8911111111111111,\n",
            " 'importance_type': 'split',\n",
            " 'learning_rate': 0.07368684210526316,\n",
            " 'max_bin': 360,\n",
            " 'max_depth': 7,\n",
            " 'min_child_samples': 53,\n",
            " 'min_child_weight': 8,\n",
            " 'min_split_gain': 0.7368421052631579,\n",
            " 'n_estimators': 50,\n",
            " 'n_jobs': 1,\n",
            " 'num_leaves': 8,\n",
            " 'objective': None,\n",
            " 'random_state': None,\n",
            " 'reg_alpha': 0.894736842105263,\n",
            " 'reg_lambda': 0.05263157894736842,\n",
            " 'silent': True,\n",
            " 'subsample': 0.29736842105263156,\n",
            " 'subsample_for_bin': 200000,\n",
            " 'subsample_freq': 0,\n",
            " 'verbose': -10}\n",
            "\n",
            "24 - standardscalerwrapper\n",
            "{'class_name': 'StandardScaler',\n",
            " 'copy': True,\n",
            " 'module_name': 'sklearn.preprocessing._data',\n",
            " 'with_mean': False,\n",
            " 'with_std': False}\n",
            "\n",
            "24 - lightgbmclassifier\n",
            "{'boosting_type': 'gbdt',\n",
            " 'class_weight': None,\n",
            " 'colsample_bytree': 0.8911111111111111,\n",
            " 'importance_type': 'split',\n",
            " 'learning_rate': 0.0842121052631579,\n",
            " 'max_bin': 150,\n",
            " 'max_depth': 2,\n",
            " 'min_child_samples': 32,\n",
            " 'min_child_weight': 5,\n",
            " 'min_split_gain': 0.631578947368421,\n",
            " 'n_estimators': 200,\n",
            " 'n_jobs': 1,\n",
            " 'num_leaves': 224,\n",
            " 'objective': None,\n",
            " 'random_state': None,\n",
            " 'reg_alpha': 0.5789473684210527,\n",
            " 'reg_lambda': 0.05263157894736842,\n",
            " 'silent': True,\n",
            " 'subsample': 0.4457894736842105,\n",
            " 'subsample_for_bin': 200000,\n",
            " 'subsample_freq': 0,\n",
            " 'verbose': -10}\n",
            "\n",
            "16 - truncatedsvdwrapper\n",
            "{'n_components': 0.6036842105263158, 'random_state': None}\n",
            "\n",
            "16 - xgboostclassifier\n",
            "{'base_score': 0.5,\n",
            " 'booster': 'gbtree',\n",
            " 'colsample_bylevel': 1,\n",
            " 'colsample_bynode': 1,\n",
            " 'colsample_bytree': 1,\n",
            " 'eta': 0.3,\n",
            " 'gamma': 0.1,\n",
            " 'learning_rate': 0.1,\n",
            " 'max_delta_step': 0,\n",
            " 'max_depth': 9,\n",
            " 'max_leaves': 0,\n",
            " 'min_child_weight': 1,\n",
            " 'missing': nan,\n",
            " 'n_estimators': 25,\n",
            " 'n_jobs': 1,\n",
            " 'nthread': None,\n",
            " 'objective': 'reg:logistic',\n",
            " 'random_state': 0,\n",
            " 'reg_alpha': 0,\n",
            " 'reg_lambda': 2.5,\n",
            " 'scale_pos_weight': 1,\n",
            " 'seed': None,\n",
            " 'silent': None,\n",
            " 'subsample': 0.9,\n",
            " 'tree_method': 'auto',\n",
            " 'verbose': -10,\n",
            " 'verbosity': 0}\n",
            "\n",
            "8 - standardscalerwrapper\n",
            "{'class_name': 'StandardScaler',\n",
            " 'copy': True,\n",
            " 'module_name': 'sklearn.preprocessing._data',\n",
            " 'with_mean': False,\n",
            " 'with_std': True}\n",
            "\n",
            "8 - randomforestclassifier\n",
            "{'bootstrap': False,\n",
            " 'ccp_alpha': 0.0,\n",
            " 'class_weight': None,\n",
            " 'criterion': 'entropy',\n",
            " 'max_depth': None,\n",
            " 'max_features': 0.2,\n",
            " 'max_leaf_nodes': None,\n",
            " 'max_samples': None,\n",
            " 'min_impurity_decrease': 0.0,\n",
            " 'min_impurity_split': None,\n",
            " 'min_samples_leaf': 0.01,\n",
            " 'min_samples_split': 0.10368421052631578,\n",
            " 'min_weight_fraction_leaf': 0.0,\n",
            " 'n_estimators': 25,\n",
            " 'n_jobs': 1,\n",
            " 'oob_score': False,\n",
            " 'random_state': None,\n",
            " 'verbose': 0,\n",
            " 'warm_start': False}\n",
            "\n",
            "3 - maxabsscaler\n",
            "{'copy': True}\n",
            "\n",
            "3 - randomforestclassifier\n",
            "{'bootstrap': True,\n",
            " 'ccp_alpha': 0.0,\n",
            " 'class_weight': None,\n",
            " 'criterion': 'gini',\n",
            " 'max_depth': None,\n",
            " 'max_features': 'sqrt',\n",
            " 'max_leaf_nodes': None,\n",
            " 'max_samples': None,\n",
            " 'min_impurity_decrease': 0.0,\n",
            " 'min_impurity_split': None,\n",
            " 'min_samples_leaf': 0.035789473684210524,\n",
            " 'min_samples_split': 0.01,\n",
            " 'min_weight_fraction_leaf': 0.0,\n",
            " 'n_estimators': 10,\n",
            " 'n_jobs': 1,\n",
            " 'oob_score': True,\n",
            " 'random_state': None,\n",
            " 'verbose': 0,\n",
            " 'warm_start': False}\n",
            "\n",
            "10 - sparsenormalizer\n",
            "{'copy': True, 'norm': 'max'}\n",
            "\n",
            "10 - xgboostclassifier\n",
            "{'base_score': 0.5,\n",
            " 'booster': 'gbtree',\n",
            " 'colsample_bylevel': 1,\n",
            " 'colsample_bynode': 1,\n",
            " 'colsample_bytree': 0.6,\n",
            " 'eta': 0.05,\n",
            " 'gamma': 0,\n",
            " 'learning_rate': 0.1,\n",
            " 'max_delta_step': 0,\n",
            " 'max_depth': 2,\n",
            " 'max_leaves': 0,\n",
            " 'min_child_weight': 1,\n",
            " 'missing': nan,\n",
            " 'n_estimators': 10,\n",
            " 'n_jobs': 1,\n",
            " 'nthread': None,\n",
            " 'objective': 'reg:logistic',\n",
            " 'random_state': 0,\n",
            " 'reg_alpha': 1.6666666666666667,\n",
            " 'reg_lambda': 0.20833333333333334,\n",
            " 'scale_pos_weight': 1,\n",
            " 'seed': None,\n",
            " 'silent': None,\n",
            " 'subsample': 1,\n",
            " 'tree_method': 'auto',\n",
            " 'verbose': -10,\n",
            " 'verbosity': 0}\n",
            "\n"
          ]
        }
      ],
      "execution_count": 11,
      "metadata": {
        "collapsed": true,
        "jupyter": {
          "source_hidden": false,
          "outputs_hidden": false
        },
        "nteract": {
          "transient": {
            "deleting": false
          }
        },
        "gather": {
          "logged": 1613104986500
        }
      }
    },
    {
      "cell_type": "code",
      "source": [
        "#TODO: Save the best model\r\n",
        "os.makedirs('outputs', exist_ok=True)\r\n",
        "\r\n",
        "joblib.dump(fitted_model, 'outputs/automlmodel.joblib')\r\n"
      ],
      "outputs": [
        {
          "output_type": "execute_result",
          "execution_count": 12,
          "data": {
            "text/plain": "['outputs/automlmodel.joblib']"
          },
          "metadata": {}
        }
      ],
      "execution_count": 12,
      "metadata": {
        "gather": {
          "logged": 1613105198428
        },
        "jupyter": {
          "outputs_hidden": false,
          "source_hidden": false
        },
        "nteract": {
          "transient": {
            "deleting": false
          }
        }
      }
    },
    {
      "cell_type": "markdown",
      "source": [
        "## Model Deployment\n",
        "\n",
        "Remember you have to deploy only one of the two models you trained.. Perform the steps in the rest of this notebook only if you wish to deploy this model.\n",
        "\n",
        "TODO: In the cell below, register the model, create an inference config and deploy the model as a web service."
      ],
      "metadata": {}
    },
    {
      "cell_type": "code",
      "source": [
        "model_name = best_run.properties['model_name']\r\n",
        "\r\n",
        "script_file_name = 'inference/score.py'\r\n",
        "\r\n",
        "best_run.download_file('outputs/scoring_file_v_1_0_0.py', 'inference/score.py')\r\n",
        "\r\n",
        "description = 'AutoML Model'\r\n",
        "tags = None\r\n",
        "model = remote_run.register_model(model_name = model_name, description = description, tags = tags)\r\n",
        "\r\n",
        "print(remote_run.model_id)"
      ],
      "outputs": [
        {
          "output_type": "stream",
          "name": "stdout",
          "text": [
            "AutoML1023d585034\n"
          ]
        }
      ],
      "execution_count": 13,
      "metadata": {
        "gather": {
          "logged": 1613105215964
        },
        "jupyter": {
          "outputs_hidden": false,
          "source_hidden": false
        },
        "nteract": {
          "transient": {
            "deleting": false
          }
        }
      }
    },
    {
      "cell_type": "code",
      "source": [
        "from azureml.core.model import InferenceConfig\r\n",
        "from azureml.core.webservice import AciWebservice\r\n",
        "from azureml.core.webservice import Webservice\r\n",
        "from azureml.core.model import Model\r\n",
        "from azureml.core.environment import Environment\r\n",
        "\r\n",
        "inference_config = InferenceConfig(entry_script=script_file_name)\r\n",
        "\r\n",
        "aciconfig = AciWebservice.deploy_configuration(cpu_cores = 1, \r\n",
        "                                               memory_gb = 1, \r\n",
        "                                               tags = {'area': \"bmData\", 'type': \"automl_classification\"},\r\n",
        "                                               enable_app_insights=True,\r\n",
        "                                               auth_enabled=True, \r\n",
        "                                               description = 'sample service for Automl Classification'\r\n",
        "                                               )\r\n",
        "\r\n",
        "\r\n",
        "aci_service_name = 'automl-sample-diabetes'\r\n",
        "print(aci_service_name)\r\n",
        "aci_service = Model.deploy(ws, aci_service_name, [model], inference_config, aciconfig)\r\n",
        "aci_service.wait_for_deployment(True)\r\n",
        "print(aci_service.state)"
      ],
      "outputs": [
        {
          "output_type": "stream",
          "name": "stdout",
          "text": [
            "automl-sample-diabetes\n",
            "Tips: You can try get_logs(): https://aka.ms/debugimage#dockerlog or local deployment: https://aka.ms/debugimage#debug-locally to debug if deployment takes longer than 10 minutes.\n",
            "Running...................................................\n",
            "Succeeded\n",
            "ACI service creation operation finished, operation \"Succeeded\"\n",
            "Healthy\n"
          ]
        }
      ],
      "execution_count": 23,
      "metadata": {
        "collapsed": true,
        "jupyter": {
          "source_hidden": false,
          "outputs_hidden": false
        },
        "nteract": {
          "transient": {
            "deleting": false
          }
        },
        "gather": {
          "logged": 1613109332336
        }
      }
    },
    {
      "cell_type": "code",
      "source": [
        "print (aci_service.scoring_uri)\r\n",
        "print (aci_service.swagger_uri)"
      ],
      "outputs": [
        {
          "output_type": "stream",
          "name": "stdout",
          "text": [
            "http://2ebd99d0-cb2c-45ae-97b9-4c3faa80f25f.southcentralus.azurecontainer.io/score\n",
            "http://2ebd99d0-cb2c-45ae-97b9-4c3faa80f25f.southcentralus.azurecontainer.io/swagger.json\n"
          ]
        }
      ],
      "execution_count": 24,
      "metadata": {
        "collapsed": true,
        "jupyter": {
          "source_hidden": false,
          "outputs_hidden": false
        },
        "nteract": {
          "transient": {
            "deleting": false
          }
        },
        "gather": {
          "logged": 1613109423318
        }
      }
    },
    {
      "cell_type": "markdown",
      "source": [
        "TODO: In the cell below, send a request to the web service you deployed to test it."
      ],
      "metadata": {
        "collapsed": true,
        "gather": {
          "logged": 1598431657736
        },
        "jupyter": {
          "outputs_hidden": false,
          "source_hidden": false
        },
        "nteract": {
          "transient": {
            "deleting": false
          }
        }
      }
    },
    {
      "cell_type": "code",
      "source": [
        "scor = aci_service.scoring_uri\r\n",
        "primary,secondry = aci_service.get_keys()\r\n",
        "print(primary)"
      ],
      "outputs": [
        {
          "output_type": "stream",
          "name": "stdout",
          "text": [
            "F1ihooq401ZKUX6B5oxzVJPLpYNac9oY\n"
          ]
        }
      ],
      "execution_count": 26,
      "metadata": {
        "gather": {
          "logged": 1613109740486
        },
        "jupyter": {
          "outputs_hidden": false,
          "source_hidden": false
        },
        "nteract": {
          "transient": {
            "deleting": false
          }
        }
      }
    },
    {
      "cell_type": "code",
      "source": [
        "import requests\r\n",
        "import json\r\n",
        "\r\n",
        "\r\n",
        "scoring_uri = scor\r\n",
        "# If the service is authenticated, set the key or token\r\n",
        "key = primary\r\n",
        "\r\n",
        "# Two sets of data to score, so we get two results back\r\n",
        "data = {\"data\":\r\n",
        "        [\r\n",
        "          {\r\n",
        "            \"Pregnancies\": 5,\r\n",
        "            \"Glucose\": 151,\r\n",
        "            \"BloodPressure\": 60,\r\n",
        "            \"SkinThickness\": 45,\r\n",
        "            \"Insulin\": 0,\r\n",
        "            \"BMI\":33.6,\r\n",
        "            \"DiabetesPedigreeFunction\": 0.627,\r\n",
        "            \"Age\":55,\r\n",
        "                       \r\n",
        "          },\r\n",
        "          {\r\n",
        "            \"Pregnancies\": 17,\r\n",
        "            \"Glucose\": 85,\r\n",
        "            \"BloodPressure\": 63,\r\n",
        "            \"SkinThickness\": 29,\r\n",
        "            \"Insulin\": 94,\r\n",
        "            \"BMI\": 28.9,\r\n",
        "            \"DiabetesPedigreeFunction\": 0.352,\r\n",
        "            \"Age\": 33,\r\n",
        "            \r\n",
        "          },\r\n",
        "      ]\r\n",
        "    }\r\n",
        "# Convert to JSON string\r\n",
        "input_data = json.dumps(data)\r\n",
        "with open(\"data.json\", \"w\") as _f:\r\n",
        "    _f.write(input_data)\r\n",
        "\r\n",
        "# Set the content type\r\n",
        "headers = {'Content-Type': 'application/json'}\r\n",
        "# If authentication is enabled, set the authorization header\r\n",
        "headers['Authorization'] = f'Bearer {key}'\r\n",
        "\r\n",
        "# Make the request and display the response\r\n",
        "resp = requests.post(scoring_uri, input_data, headers=headers)\r\n",
        "print(resp.json())"
      ],
      "outputs": [
        {
          "output_type": "stream",
          "name": "stdout",
          "text": [
            "{\"result\": [1, 0]}\n"
          ]
        }
      ],
      "execution_count": 27,
      "metadata": {
        "collapsed": true,
        "jupyter": {
          "source_hidden": false,
          "outputs_hidden": false
        },
        "nteract": {
          "transient": {
            "deleting": false
          }
        },
        "gather": {
          "logged": 1613109748014
        }
      }
    },
    {
      "cell_type": "markdown",
      "source": [
        "TODO: In the cell below, print the logs of the web service and delete the service"
      ],
      "metadata": {
        "collapsed": true,
        "gather": {
          "logged": 1598432765711
        },
        "jupyter": {
          "outputs_hidden": false,
          "source_hidden": false
        },
        "nteract": {
          "transient": {
            "deleting": false
          }
        }
      }
    },
    {
      "cell_type": "code",
      "source": [
        "aci_service.get_logs()"
      ],
      "outputs": [
        {
          "output_type": "execute_result",
          "execution_count": 28,
          "data": {
            "text/plain": "'2021-02-12T05:57:25,678208009+00:00 - rsyslog/run \\n2021-02-12T05:57:25,678763712+00:00 - nginx/run \\n/usr/sbin/nginx: /azureml-envs/azureml_20a8278aa8b20dd48cc50f56a6d2586c/lib/libcrypto.so.1.0.0: no version information available (required by /usr/sbin/nginx)\\n/usr/sbin/nginx: /azureml-envs/azureml_20a8278aa8b20dd48cc50f56a6d2586c/lib/libcrypto.so.1.0.0: no version information available (required by /usr/sbin/nginx)\\n/usr/sbin/nginx: /azureml-envs/azureml_20a8278aa8b20dd48cc50f56a6d2586c/lib/libssl.so.1.0.0: no version information available (required by /usr/sbin/nginx)\\n/usr/sbin/nginx: /azureml-envs/azureml_20a8278aa8b20dd48cc50f56a6d2586c/lib/libssl.so.1.0.0: no version information available (required by /usr/sbin/nginx)\\n/usr/sbin/nginx: /azureml-envs/azureml_20a8278aa8b20dd48cc50f56a6d2586c/lib/libssl.so.1.0.0: no version information available (required by /usr/sbin/nginx)\\nrsyslogd: /azureml-envs/azureml_20a8278aa8b20dd48cc50f56a6d2586c/lib/libuuid.so.1: no version information available (required by rsyslogd)\\n2021-02-12T05:57:25,680545219+00:00 - iot-server/run \\n2021-02-12T05:57:25,680505919+00:00 - gunicorn/run \\nEdgeHubConnectionString and IOTEDGE_IOTHUBHOSTNAME are not set. Exiting...\\n2021-02-12T05:57:25,812585987+00:00 - iot-server/finish 1 0\\n2021-02-12T05:57:25,813748192+00:00 - Exit code 1 is normal. Not restarting iot-server.\\nStarting gunicorn 19.9.0\\nListening at: http://127.0.0.1:31311 (13)\\nUsing worker: sync\\nworker timeout is set to 300\\nBooting worker with pid: 42\\nSPARK_HOME not set. Skipping PySpark Initialization.\\nGenerating new fontManager, this may take some time...\\nInitializing logger\\n2021-02-12 05:57:26,956 | root | INFO | Starting up app insights client\\n2021-02-12 05:57:26,957 | root | INFO | Starting up request id generator\\n2021-02-12 05:57:26,957 | root | INFO | Starting up app insight hooks\\n2021-02-12 05:57:26,957 | root | INFO | Invoking user\\'s init function\\n2021-02-12 05:57:29,215 | root | INFO | Users\\'s init has completed successfully\\n2021-02-12 05:57:29,219 | root | INFO | Skipping middleware: dbg_model_info as it\\'s not enabled.\\n2021-02-12 05:57:29,219 | root | INFO | Skipping middleware: dbg_resource_usage as it\\'s not enabled.\\n2021-02-12 05:57:29,294 | root | INFO | Scoring timeout is found from os.environ: 60000 ms\\n2021-02-12 05:57:36,181 | root | INFO | 200\\n127.0.0.1 - - [12/Feb/2021:05:57:36 +0000] \"GET /swagger.json HTTP/1.0\" 200 2554 \"-\" \"Go-http-client/1.1\"\\n2021-02-12 05:57:44,951 | root | INFO | 200\\n127.0.0.1 - - [12/Feb/2021:05:57:44 +0000] \"GET /swagger.json HTTP/1.0\" 200 2554 \"-\" \"Go-http-client/1.1\"\\n2021-02-12 05:57:45,224 | root | INFO | 200\\n127.0.0.1 - - [12/Feb/2021:05:57:45 +0000] \"GET /swagger.json HTTP/1.0\" 200 2554 \"-\" \"Go-http-client/1.1\"\\n2021-02-12 05:57:59,634 | root | INFO | 200\\n127.0.0.1 - - [12/Feb/2021:05:57:59 +0000] \"GET /swagger.json HTTP/1.0\" 200 2554 \"-\" \"Go-http-client/1.1\"\\n2021-02-12 05:57:59,899 | root | INFO | 200\\n127.0.0.1 - - [12/Feb/2021:05:57:59 +0000] \"GET /swagger.json HTTP/1.0\" 200 2554 \"-\" \"Go-http-client/1.1\"\\n2021-02-12 06:02:27,665 | root | INFO | Validation Request Content-Type\\n2021-02-12 06:02:27,666 | root | INFO | Scoring Timer is set to 60.0 seconds\\n2021-02-12 06:02:27,721 | root | INFO | 200\\n127.0.0.1 - - [12/Feb/2021:06:02:27 +0000] \"POST /score HTTP/1.0\" 200 22 \"-\" \"python-requests/2.25.1\"\\n'"
          },
          "metadata": {}
        }
      ],
      "execution_count": 28,
      "metadata": {
        "collapsed": true,
        "jupyter": {
          "source_hidden": false,
          "outputs_hidden": false
        },
        "nteract": {
          "transient": {
            "deleting": false
          }
        },
        "gather": {
          "logged": 1613109795360
        }
      }
    },
    {
      "cell_type": "code",
      "source": [
        "aci_service.delete()"
      ],
      "outputs": [],
      "execution_count": 22,
      "metadata": {
        "jupyter": {
          "outputs_hidden": false,
          "source_hidden": false
        },
        "nteract": {
          "transient": {
            "deleting": false
          }
        },
        "gather": {
          "logged": 1613108962626
        }
      }
    },
    {
      "cell_type": "code",
      "source": [
        "cap"
      ],
      "outputs": [],
      "execution_count": null,
      "metadata": {
        "collapsed": true,
        "jupyter": {
          "source_hidden": false,
          "outputs_hidden": false
        },
        "nteract": {
          "transient": {
            "deleting": false
          }
        }
      }
    }
  ],
  "metadata": {
    "kernel_info": {
      "name": "python3-azureml"
    },
    "kernelspec": {
      "name": "python3-azureml",
      "language": "python",
      "display_name": "Python 3.6 - AzureML"
    },
    "language_info": {
      "name": "python",
      "version": "3.6.9",
      "mimetype": "text/x-python",
      "codemirror_mode": {
        "name": "ipython",
        "version": 3
      },
      "pygments_lexer": "ipython3",
      "nbconvert_exporter": "python",
      "file_extension": ".py"
    },
    "nteract": {
      "version": "nteract-front-end@1.0.0"
    }
  },
  "nbformat": 4,
  "nbformat_minor": 2
}